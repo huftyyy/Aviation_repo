{
  "nbformat": 4,
  "nbformat_minor": 0,
  "metadata": {
    "colab": {
      "provenance": []
    },
    "kernelspec": {
      "name": "python3",
      "display_name": "Python 3"
    },
    "language_info": {
      "name": "python"
    }
  },
  "cells": [
    {
      "cell_type": "markdown",
      "source": [
        "# Aviation Risk Analysis for New Aviation Division"
      ],
      "metadata": {
        "id": "QnoYHzKvzrk0"
      }
    },
    {
      "cell_type": "markdown",
      "source": [
        "## Business Understanding"
      ],
      "metadata": {
        "id": "6f-R_mR4zxqJ"
      }
    },
    {
      "cell_type": "markdown",
      "source": [
        "Our company is expanding into the aviation industry, aiming to operate airplanes for commercial and private enterprises. However, the potential risks associated with different aircraft models are unknown.\n",
        "  \n",
        "  This analysis uses historical aviation incident data from the National Transportation Safety Board (NTSB) to identify the lowest-risk aircraft models, providing data-driven recommendations for purchasing decisions. The goal is to minimize safety incidents and financial losses while building a reliable fleet."
      ],
      "metadata": {
        "id": "VCMYpjAVz29R"
      }
    },
    {
      "cell_type": "markdown",
      "source": [
        "**Objectives**:"
      ],
      "metadata": {
        "id": "jsOXiKWD0DJM"
      }
    },
    {
      "cell_type": "markdown",
      "source": [
        "\n",
        "\n",
        "\n",
        "*   Identify aircraft with the lowest incident and fatal injury rates.\n",
        "\n",
        "*   Analyze risk factors such as weather conditions and flight phases.\n",
        "\n",
        "*   Provide three actionable recommendations for the head of the aviation division.\n",
        "\n",
        "\n",
        "\n",
        "\n",
        "\n",
        "\n",
        "\n",
        "\n",
        "\n"
      ],
      "metadata": {
        "id": "lQR4CSet0HZd"
      }
    },
    {
      "cell_type": "markdown",
      "source": [
        "**Data Source**:\n",
        "\n",
        "[NTSB Aviation Accident Database](https://www.ntsb.gov) (`AviationData.csv`), covering U.S. civil aviation incidents from 1962 to 2023.\n",
        "\n",
        "Key columns include:\n",
        "\n",
        "  - **Event.Id**: Unique identifier for each incident.\n",
        "  - **Make** and **Model**: Aircraft manufacturer and model (e.g., Boeing 737).\n",
        "  - **Total.Fatal.Injuries**, **Total.Serious.Injuries**, **Total.Minor.Injuries**, **Total.Uninjured**: Injury outcomes per incident.\n",
        "  - **Weather.Condition**: VMC (clear), IMC (poor visibility), or UNK (unknown).\n",
        "  - **Broad.phase.of.flight**: Flight phase (e.g., Takeoff, Cruise, Landing).\n",
        "  - **Report.Status**: Probable cause of the incident (e.g., pilot error, mechanical failure).\n",
        "  - **Event.Date**: Date of the incident."
      ],
      "metadata": {
        "id": "bUMvh2WD0t3z"
      }
    },
    {
      "cell_type": "markdown",
      "source": [
        "**Challenges**:\n",
        "  - Missing values in critical columns (~8% missing Make/Model, ~20% missing injury counts).\\n\",\n",
        "  - Inconsistent text formatting in Make, Model, and Report.Status.\\n\",\n",
        "  - No flight hour data for normalizing incident rates, requiring estimated values."
      ],
      "metadata": {
        "id": "YcZtpoO6TOHC"
      }
    },
    {
      "cell_type": "markdown",
      "source": [
        "**Tools**:"
      ],
      "metadata": {
        "id": "7oNGXFbF03mx"
      }
    },
    {
      "cell_type": "markdown",
      "source": [
        "Python (Pandas, NumPy, Matplotlib) for data cleaning, analysis, and visualization.\n"
      ],
      "metadata": {
        "id": "-uzXpOx909j4"
      }
    },
    {
      "cell_type": "markdown",
      "source": [
        "## Data Loading and Exploration"
      ],
      "metadata": {
        "id": "BFBmnhEo1Gsu"
      }
    },
    {
      "cell_type": "markdown",
      "source": [
        "We start by loading the dataset and examining its structure to understand the available variables and identify data quality issues."
      ],
      "metadata": {
        "id": "JGm_btFZ1MYi"
      }
    },
    {
      "cell_type": "code",
      "source": [
        "import pandas as pd\n",
        "import numpy as np\n",
        "import matplotlib.pyplot as plt"
      ],
      "metadata": {
        "id": "ZRFSdrG01JhN"
      },
      "execution_count": 119,
      "outputs": []
    },
    {
      "cell_type": "markdown",
      "source": [
        "# Load dataset"
      ],
      "metadata": {
        "id": "RAW6LwCb1bEw"
      }
    },
    {
      "cell_type": "code",
      "source": [
        "df = pd.read_csv('AviationData.csv', encoding='latin1', low_memory=False)\n",
        "\n",
        "# Display basic info\n",
        "print(df.info())\n",
        "df.head()"
      ],
      "metadata": {
        "colab": {
          "base_uri": "https://localhost:8080/",
          "height": 1000
        },
        "id": "Y2VE3Viw1TJo",
        "outputId": "4430ba3a-f7b9-4080-fe22-ae8c5f069706"
      },
      "execution_count": 120,
      "outputs": [
        {
          "output_type": "stream",
          "name": "stdout",
          "text": [
            "<class 'pandas.core.frame.DataFrame'>\n",
            "RangeIndex: 88889 entries, 0 to 88888\n",
            "Data columns (total 31 columns):\n",
            " #   Column                  Non-Null Count  Dtype  \n",
            "---  ------                  --------------  -----  \n",
            " 0   Event.Id                88889 non-null  object \n",
            " 1   Investigation.Type      88889 non-null  object \n",
            " 2   Accident.Number         88889 non-null  object \n",
            " 3   Event.Date              88889 non-null  object \n",
            " 4   Location                88837 non-null  object \n",
            " 5   Country                 88663 non-null  object \n",
            " 6   Latitude                34382 non-null  object \n",
            " 7   Longitude               34373 non-null  object \n",
            " 8   Airport.Code            50132 non-null  object \n",
            " 9   Airport.Name            52704 non-null  object \n",
            " 10  Injury.Severity         87889 non-null  object \n",
            " 11  Aircraft.damage         85695 non-null  object \n",
            " 12  Aircraft.Category       32287 non-null  object \n",
            " 13  Registration.Number     87507 non-null  object \n",
            " 14  Make                    88826 non-null  object \n",
            " 15  Model                   88797 non-null  object \n",
            " 16  Amateur.Built           88787 non-null  object \n",
            " 17  Number.of.Engines       82805 non-null  float64\n",
            " 18  Engine.Type             81793 non-null  object \n",
            " 19  FAR.Description         32023 non-null  object \n",
            " 20  Schedule                12582 non-null  object \n",
            " 21  Purpose.of.flight       82697 non-null  object \n",
            " 22  Air.carrier             16648 non-null  object \n",
            " 23  Total.Fatal.Injuries    77488 non-null  float64\n",
            " 24  Total.Serious.Injuries  76379 non-null  float64\n",
            " 25  Total.Minor.Injuries    76956 non-null  float64\n",
            " 26  Total.Uninjured         82977 non-null  float64\n",
            " 27  Weather.Condition       84397 non-null  object \n",
            " 28  Broad.phase.of.flight   61724 non-null  object \n",
            " 29  Report.Status           82505 non-null  object \n",
            " 30  Publication.Date        75118 non-null  object \n",
            "dtypes: float64(5), object(26)\n",
            "memory usage: 21.0+ MB\n",
            "None\n"
          ]
        },
        {
          "output_type": "execute_result",
          "data": {
            "text/plain": [
              "         Event.Id Investigation.Type Accident.Number  Event.Date  \\\n",
              "0  20001218X45444           Accident      SEA87LA080  1948-10-24   \n",
              "1  20001218X45447           Accident      LAX94LA336  1962-07-19   \n",
              "2  20061025X01555           Accident      NYC07LA005  1974-08-30   \n",
              "3  20001218X45448           Accident      LAX96LA321  1977-06-19   \n",
              "4  20041105X01764           Accident      CHI79FA064  1979-08-02   \n",
              "\n",
              "          Location        Country   Latitude   Longitude Airport.Code  \\\n",
              "0  MOOSE CREEK, ID  United States        NaN         NaN          NaN   \n",
              "1   BRIDGEPORT, CA  United States        NaN         NaN          NaN   \n",
              "2    Saltville, VA  United States  36.922223  -81.878056          NaN   \n",
              "3       EUREKA, CA  United States        NaN         NaN          NaN   \n",
              "4       Canton, OH  United States        NaN         NaN          NaN   \n",
              "\n",
              "  Airport.Name  ... Purpose.of.flight Air.carrier Total.Fatal.Injuries  \\\n",
              "0          NaN  ...          Personal         NaN                  2.0   \n",
              "1          NaN  ...          Personal         NaN                  4.0   \n",
              "2          NaN  ...          Personal         NaN                  3.0   \n",
              "3          NaN  ...          Personal         NaN                  2.0   \n",
              "4          NaN  ...          Personal         NaN                  1.0   \n",
              "\n",
              "  Total.Serious.Injuries Total.Minor.Injuries Total.Uninjured  \\\n",
              "0                    0.0                  0.0             0.0   \n",
              "1                    0.0                  0.0             0.0   \n",
              "2                    NaN                  NaN             NaN   \n",
              "3                    0.0                  0.0             0.0   \n",
              "4                    2.0                  NaN             0.0   \n",
              "\n",
              "  Weather.Condition  Broad.phase.of.flight   Report.Status Publication.Date  \n",
              "0               UNK                 Cruise  Probable Cause              NaN  \n",
              "1               UNK                Unknown  Probable Cause       19-09-1996  \n",
              "2               IMC                 Cruise  Probable Cause       26-02-2007  \n",
              "3               IMC                 Cruise  Probable Cause       12-09-2000  \n",
              "4               VMC               Approach  Probable Cause       16-04-1980  \n",
              "\n",
              "[5 rows x 31 columns]"
            ],
            "text/html": [
              "\n",
              "  <div id=\"df-ba2e9119-8d2b-4efa-a436-94d7600f0894\" class=\"colab-df-container\">\n",
              "    <div>\n",
              "<style scoped>\n",
              "    .dataframe tbody tr th:only-of-type {\n",
              "        vertical-align: middle;\n",
              "    }\n",
              "\n",
              "    .dataframe tbody tr th {\n",
              "        vertical-align: top;\n",
              "    }\n",
              "\n",
              "    .dataframe thead th {\n",
              "        text-align: right;\n",
              "    }\n",
              "</style>\n",
              "<table border=\"1\" class=\"dataframe\">\n",
              "  <thead>\n",
              "    <tr style=\"text-align: right;\">\n",
              "      <th></th>\n",
              "      <th>Event.Id</th>\n",
              "      <th>Investigation.Type</th>\n",
              "      <th>Accident.Number</th>\n",
              "      <th>Event.Date</th>\n",
              "      <th>Location</th>\n",
              "      <th>Country</th>\n",
              "      <th>Latitude</th>\n",
              "      <th>Longitude</th>\n",
              "      <th>Airport.Code</th>\n",
              "      <th>Airport.Name</th>\n",
              "      <th>...</th>\n",
              "      <th>Purpose.of.flight</th>\n",
              "      <th>Air.carrier</th>\n",
              "      <th>Total.Fatal.Injuries</th>\n",
              "      <th>Total.Serious.Injuries</th>\n",
              "      <th>Total.Minor.Injuries</th>\n",
              "      <th>Total.Uninjured</th>\n",
              "      <th>Weather.Condition</th>\n",
              "      <th>Broad.phase.of.flight</th>\n",
              "      <th>Report.Status</th>\n",
              "      <th>Publication.Date</th>\n",
              "    </tr>\n",
              "  </thead>\n",
              "  <tbody>\n",
              "    <tr>\n",
              "      <th>0</th>\n",
              "      <td>20001218X45444</td>\n",
              "      <td>Accident</td>\n",
              "      <td>SEA87LA080</td>\n",
              "      <td>1948-10-24</td>\n",
              "      <td>MOOSE CREEK, ID</td>\n",
              "      <td>United States</td>\n",
              "      <td>NaN</td>\n",
              "      <td>NaN</td>\n",
              "      <td>NaN</td>\n",
              "      <td>NaN</td>\n",
              "      <td>...</td>\n",
              "      <td>Personal</td>\n",
              "      <td>NaN</td>\n",
              "      <td>2.0</td>\n",
              "      <td>0.0</td>\n",
              "      <td>0.0</td>\n",
              "      <td>0.0</td>\n",
              "      <td>UNK</td>\n",
              "      <td>Cruise</td>\n",
              "      <td>Probable Cause</td>\n",
              "      <td>NaN</td>\n",
              "    </tr>\n",
              "    <tr>\n",
              "      <th>1</th>\n",
              "      <td>20001218X45447</td>\n",
              "      <td>Accident</td>\n",
              "      <td>LAX94LA336</td>\n",
              "      <td>1962-07-19</td>\n",
              "      <td>BRIDGEPORT, CA</td>\n",
              "      <td>United States</td>\n",
              "      <td>NaN</td>\n",
              "      <td>NaN</td>\n",
              "      <td>NaN</td>\n",
              "      <td>NaN</td>\n",
              "      <td>...</td>\n",
              "      <td>Personal</td>\n",
              "      <td>NaN</td>\n",
              "      <td>4.0</td>\n",
              "      <td>0.0</td>\n",
              "      <td>0.0</td>\n",
              "      <td>0.0</td>\n",
              "      <td>UNK</td>\n",
              "      <td>Unknown</td>\n",
              "      <td>Probable Cause</td>\n",
              "      <td>19-09-1996</td>\n",
              "    </tr>\n",
              "    <tr>\n",
              "      <th>2</th>\n",
              "      <td>20061025X01555</td>\n",
              "      <td>Accident</td>\n",
              "      <td>NYC07LA005</td>\n",
              "      <td>1974-08-30</td>\n",
              "      <td>Saltville, VA</td>\n",
              "      <td>United States</td>\n",
              "      <td>36.922223</td>\n",
              "      <td>-81.878056</td>\n",
              "      <td>NaN</td>\n",
              "      <td>NaN</td>\n",
              "      <td>...</td>\n",
              "      <td>Personal</td>\n",
              "      <td>NaN</td>\n",
              "      <td>3.0</td>\n",
              "      <td>NaN</td>\n",
              "      <td>NaN</td>\n",
              "      <td>NaN</td>\n",
              "      <td>IMC</td>\n",
              "      <td>Cruise</td>\n",
              "      <td>Probable Cause</td>\n",
              "      <td>26-02-2007</td>\n",
              "    </tr>\n",
              "    <tr>\n",
              "      <th>3</th>\n",
              "      <td>20001218X45448</td>\n",
              "      <td>Accident</td>\n",
              "      <td>LAX96LA321</td>\n",
              "      <td>1977-06-19</td>\n",
              "      <td>EUREKA, CA</td>\n",
              "      <td>United States</td>\n",
              "      <td>NaN</td>\n",
              "      <td>NaN</td>\n",
              "      <td>NaN</td>\n",
              "      <td>NaN</td>\n",
              "      <td>...</td>\n",
              "      <td>Personal</td>\n",
              "      <td>NaN</td>\n",
              "      <td>2.0</td>\n",
              "      <td>0.0</td>\n",
              "      <td>0.0</td>\n",
              "      <td>0.0</td>\n",
              "      <td>IMC</td>\n",
              "      <td>Cruise</td>\n",
              "      <td>Probable Cause</td>\n",
              "      <td>12-09-2000</td>\n",
              "    </tr>\n",
              "    <tr>\n",
              "      <th>4</th>\n",
              "      <td>20041105X01764</td>\n",
              "      <td>Accident</td>\n",
              "      <td>CHI79FA064</td>\n",
              "      <td>1979-08-02</td>\n",
              "      <td>Canton, OH</td>\n",
              "      <td>United States</td>\n",
              "      <td>NaN</td>\n",
              "      <td>NaN</td>\n",
              "      <td>NaN</td>\n",
              "      <td>NaN</td>\n",
              "      <td>...</td>\n",
              "      <td>Personal</td>\n",
              "      <td>NaN</td>\n",
              "      <td>1.0</td>\n",
              "      <td>2.0</td>\n",
              "      <td>NaN</td>\n",
              "      <td>0.0</td>\n",
              "      <td>VMC</td>\n",
              "      <td>Approach</td>\n",
              "      <td>Probable Cause</td>\n",
              "      <td>16-04-1980</td>\n",
              "    </tr>\n",
              "  </tbody>\n",
              "</table>\n",
              "<p>5 rows × 31 columns</p>\n",
              "</div>\n",
              "    <div class=\"colab-df-buttons\">\n",
              "\n",
              "  <div class=\"colab-df-container\">\n",
              "    <button class=\"colab-df-convert\" onclick=\"convertToInteractive('df-ba2e9119-8d2b-4efa-a436-94d7600f0894')\"\n",
              "            title=\"Convert this dataframe to an interactive table.\"\n",
              "            style=\"display:none;\">\n",
              "\n",
              "  <svg xmlns=\"http://www.w3.org/2000/svg\" height=\"24px\" viewBox=\"0 -960 960 960\">\n",
              "    <path d=\"M120-120v-720h720v720H120Zm60-500h600v-160H180v160Zm220 220h160v-160H400v160Zm0 220h160v-160H400v160ZM180-400h160v-160H180v160Zm440 0h160v-160H620v160ZM180-180h160v-160H180v160Zm440 0h160v-160H620v160Z\"/>\n",
              "  </svg>\n",
              "    </button>\n",
              "\n",
              "  <style>\n",
              "    .colab-df-container {\n",
              "      display:flex;\n",
              "      gap: 12px;\n",
              "    }\n",
              "\n",
              "    .colab-df-convert {\n",
              "      background-color: #E8F0FE;\n",
              "      border: none;\n",
              "      border-radius: 50%;\n",
              "      cursor: pointer;\n",
              "      display: none;\n",
              "      fill: #1967D2;\n",
              "      height: 32px;\n",
              "      padding: 0 0 0 0;\n",
              "      width: 32px;\n",
              "    }\n",
              "\n",
              "    .colab-df-convert:hover {\n",
              "      background-color: #E2EBFA;\n",
              "      box-shadow: 0px 1px 2px rgba(60, 64, 67, 0.3), 0px 1px 3px 1px rgba(60, 64, 67, 0.15);\n",
              "      fill: #174EA6;\n",
              "    }\n",
              "\n",
              "    .colab-df-buttons div {\n",
              "      margin-bottom: 4px;\n",
              "    }\n",
              "\n",
              "    [theme=dark] .colab-df-convert {\n",
              "      background-color: #3B4455;\n",
              "      fill: #D2E3FC;\n",
              "    }\n",
              "\n",
              "    [theme=dark] .colab-df-convert:hover {\n",
              "      background-color: #434B5C;\n",
              "      box-shadow: 0px 1px 3px 1px rgba(0, 0, 0, 0.15);\n",
              "      filter: drop-shadow(0px 1px 2px rgba(0, 0, 0, 0.3));\n",
              "      fill: #FFFFFF;\n",
              "    }\n",
              "  </style>\n",
              "\n",
              "    <script>\n",
              "      const buttonEl =\n",
              "        document.querySelector('#df-ba2e9119-8d2b-4efa-a436-94d7600f0894 button.colab-df-convert');\n",
              "      buttonEl.style.display =\n",
              "        google.colab.kernel.accessAllowed ? 'block' : 'none';\n",
              "\n",
              "      async function convertToInteractive(key) {\n",
              "        const element = document.querySelector('#df-ba2e9119-8d2b-4efa-a436-94d7600f0894');\n",
              "        const dataTable =\n",
              "          await google.colab.kernel.invokeFunction('convertToInteractive',\n",
              "                                                    [key], {});\n",
              "        if (!dataTable) return;\n",
              "\n",
              "        const docLinkHtml = 'Like what you see? Visit the ' +\n",
              "          '<a target=\"_blank\" href=https://colab.research.google.com/notebooks/data_table.ipynb>data table notebook</a>'\n",
              "          + ' to learn more about interactive tables.';\n",
              "        element.innerHTML = '';\n",
              "        dataTable['output_type'] = 'display_data';\n",
              "        await google.colab.output.renderOutput(dataTable, element);\n",
              "        const docLink = document.createElement('div');\n",
              "        docLink.innerHTML = docLinkHtml;\n",
              "        element.appendChild(docLink);\n",
              "      }\n",
              "    </script>\n",
              "  </div>\n",
              "\n",
              "\n",
              "    <div id=\"df-e9faebe2-874a-457b-b391-aaa74f414c6d\">\n",
              "      <button class=\"colab-df-quickchart\" onclick=\"quickchart('df-e9faebe2-874a-457b-b391-aaa74f414c6d')\"\n",
              "                title=\"Suggest charts\"\n",
              "                style=\"display:none;\">\n",
              "\n",
              "<svg xmlns=\"http://www.w3.org/2000/svg\" height=\"24px\"viewBox=\"0 0 24 24\"\n",
              "     width=\"24px\">\n",
              "    <g>\n",
              "        <path d=\"M19 3H5c-1.1 0-2 .9-2 2v14c0 1.1.9 2 2 2h14c1.1 0 2-.9 2-2V5c0-1.1-.9-2-2-2zM9 17H7v-7h2v7zm4 0h-2V7h2v10zm4 0h-2v-4h2v4z\"/>\n",
              "    </g>\n",
              "</svg>\n",
              "      </button>\n",
              "\n",
              "<style>\n",
              "  .colab-df-quickchart {\n",
              "      --bg-color: #E8F0FE;\n",
              "      --fill-color: #1967D2;\n",
              "      --hover-bg-color: #E2EBFA;\n",
              "      --hover-fill-color: #174EA6;\n",
              "      --disabled-fill-color: #AAA;\n",
              "      --disabled-bg-color: #DDD;\n",
              "  }\n",
              "\n",
              "  [theme=dark] .colab-df-quickchart {\n",
              "      --bg-color: #3B4455;\n",
              "      --fill-color: #D2E3FC;\n",
              "      --hover-bg-color: #434B5C;\n",
              "      --hover-fill-color: #FFFFFF;\n",
              "      --disabled-bg-color: #3B4455;\n",
              "      --disabled-fill-color: #666;\n",
              "  }\n",
              "\n",
              "  .colab-df-quickchart {\n",
              "    background-color: var(--bg-color);\n",
              "    border: none;\n",
              "    border-radius: 50%;\n",
              "    cursor: pointer;\n",
              "    display: none;\n",
              "    fill: var(--fill-color);\n",
              "    height: 32px;\n",
              "    padding: 0;\n",
              "    width: 32px;\n",
              "  }\n",
              "\n",
              "  .colab-df-quickchart:hover {\n",
              "    background-color: var(--hover-bg-color);\n",
              "    box-shadow: 0 1px 2px rgba(60, 64, 67, 0.3), 0 1px 3px 1px rgba(60, 64, 67, 0.15);\n",
              "    fill: var(--button-hover-fill-color);\n",
              "  }\n",
              "\n",
              "  .colab-df-quickchart-complete:disabled,\n",
              "  .colab-df-quickchart-complete:disabled:hover {\n",
              "    background-color: var(--disabled-bg-color);\n",
              "    fill: var(--disabled-fill-color);\n",
              "    box-shadow: none;\n",
              "  }\n",
              "\n",
              "  .colab-df-spinner {\n",
              "    border: 2px solid var(--fill-color);\n",
              "    border-color: transparent;\n",
              "    border-bottom-color: var(--fill-color);\n",
              "    animation:\n",
              "      spin 1s steps(1) infinite;\n",
              "  }\n",
              "\n",
              "  @keyframes spin {\n",
              "    0% {\n",
              "      border-color: transparent;\n",
              "      border-bottom-color: var(--fill-color);\n",
              "      border-left-color: var(--fill-color);\n",
              "    }\n",
              "    20% {\n",
              "      border-color: transparent;\n",
              "      border-left-color: var(--fill-color);\n",
              "      border-top-color: var(--fill-color);\n",
              "    }\n",
              "    30% {\n",
              "      border-color: transparent;\n",
              "      border-left-color: var(--fill-color);\n",
              "      border-top-color: var(--fill-color);\n",
              "      border-right-color: var(--fill-color);\n",
              "    }\n",
              "    40% {\n",
              "      border-color: transparent;\n",
              "      border-right-color: var(--fill-color);\n",
              "      border-top-color: var(--fill-color);\n",
              "    }\n",
              "    60% {\n",
              "      border-color: transparent;\n",
              "      border-right-color: var(--fill-color);\n",
              "    }\n",
              "    80% {\n",
              "      border-color: transparent;\n",
              "      border-right-color: var(--fill-color);\n",
              "      border-bottom-color: var(--fill-color);\n",
              "    }\n",
              "    90% {\n",
              "      border-color: transparent;\n",
              "      border-bottom-color: var(--fill-color);\n",
              "    }\n",
              "  }\n",
              "</style>\n",
              "\n",
              "      <script>\n",
              "        async function quickchart(key) {\n",
              "          const quickchartButtonEl =\n",
              "            document.querySelector('#' + key + ' button');\n",
              "          quickchartButtonEl.disabled = true;  // To prevent multiple clicks.\n",
              "          quickchartButtonEl.classList.add('colab-df-spinner');\n",
              "          try {\n",
              "            const charts = await google.colab.kernel.invokeFunction(\n",
              "                'suggestCharts', [key], {});\n",
              "          } catch (error) {\n",
              "            console.error('Error during call to suggestCharts:', error);\n",
              "          }\n",
              "          quickchartButtonEl.classList.remove('colab-df-spinner');\n",
              "          quickchartButtonEl.classList.add('colab-df-quickchart-complete');\n",
              "        }\n",
              "        (() => {\n",
              "          let quickchartButtonEl =\n",
              "            document.querySelector('#df-e9faebe2-874a-457b-b391-aaa74f414c6d button');\n",
              "          quickchartButtonEl.style.display =\n",
              "            google.colab.kernel.accessAllowed ? 'block' : 'none';\n",
              "        })();\n",
              "      </script>\n",
              "    </div>\n",
              "\n",
              "    </div>\n",
              "  </div>\n"
            ],
            "application/vnd.google.colaboratory.intrinsic+json": {
              "type": "dataframe",
              "variable_name": "df"
            }
          },
          "metadata": {},
          "execution_count": 120
        }
      ]
    },
    {
      "cell_type": "markdown",
      "source": [
        "## Data Cleaning and Imputation"
      ],
      "metadata": {
        "id": "U078rrl91xFV"
      }
    },
    {
      "cell_type": "markdown",
      "source": [
        "The dataset contains missing values and inconsistent formatting, which we address to ensure reliable analysis.\n",
        "\n",
        "Missing Values: There are significant null values in Latitude (54,507), Longitude (54,516), Airport.Code (38,549), Air.carrier (72,022), and others.\n",
        "\n",
        "Mixed Data Types: Columns like Latitude and Longitude have mixed types, leading to a DtypeWarning.\n",
        "\n",
        "'Unknown' Values: Categorical fields such as Weather.Condition (e.g., 'UNK'), Broad.phase.of.flight (e.g., 'Unknown'), and Aircraft.Category have 'unknown' values that could impact the analysis.\n",
        "\n",
        "Temporal Span: Data from 1962 to 2023 includes outdated aircraft, requiring filtering for modern relevance."
      ],
      "metadata": {
        "id": "_ckDWmBW2JzF"
      }
    },
    {
      "cell_type": "code",
      "source": [
        "# Check missing values\n",
        "print(\"Missing Values:\")\n",
        "print(df.isna().sum())\n"
      ],
      "metadata": {
        "colab": {
          "base_uri": "https://localhost:8080/"
        },
        "id": "qEljmE9R4ZnX",
        "outputId": "a8817b30-1f81-489c-b564-54f4673b2d9d"
      },
      "execution_count": 121,
      "outputs": [
        {
          "output_type": "stream",
          "name": "stdout",
          "text": [
            "Missing Values:\n",
            "Event.Id                      0\n",
            "Investigation.Type            0\n",
            "Accident.Number               0\n",
            "Event.Date                    0\n",
            "Location                     52\n",
            "Country                     226\n",
            "Latitude                  54507\n",
            "Longitude                 54516\n",
            "Airport.Code              38757\n",
            "Airport.Name              36185\n",
            "Injury.Severity            1000\n",
            "Aircraft.damage            3194\n",
            "Aircraft.Category         56602\n",
            "Registration.Number        1382\n",
            "Make                         63\n",
            "Model                        92\n",
            "Amateur.Built               102\n",
            "Number.of.Engines          6084\n",
            "Engine.Type                7096\n",
            "FAR.Description           56866\n",
            "Schedule                  76307\n",
            "Purpose.of.flight          6192\n",
            "Air.carrier               72241\n",
            "Total.Fatal.Injuries      11401\n",
            "Total.Serious.Injuries    12510\n",
            "Total.Minor.Injuries      11933\n",
            "Total.Uninjured            5912\n",
            "Weather.Condition          4492\n",
            "Broad.phase.of.flight     27165\n",
            "Report.Status              6384\n",
            "Publication.Date          13771\n",
            "dtype: int64\n"
          ]
        }
      ]
    },
    {
      "cell_type": "markdown",
      "source": [
        "**Steps**:\n",
        "\n",
        "\n",
        "   \n",
        "\n",
        "1.   \n",
        "    **Remove missing critical fields**: Drop records missing `Make` or `Model` (~8% of data) to focus on identifiable aircraft.\n",
        "\n",
        "1.   **Impute missing values**:\n",
        "    `Weather.Condition`: Fill with 'VMC' (mode).\n",
        "    \"  - `Broad.phase.of.flight`: Fill with 'Unknown'.\n",
        "    \"  - `Total.Fatal.Injuries`: Fill with 0 (assume no fatalities if unreported).\n",
        "\n",
        "1.  **Standardize text**: Convert `Make` and `Model` to lowercase and strip whitespace.\n",
        "\n",
        "1.   **Create combined field**: Combine `Make` and `Model` into `Make_Model` for detailed analysis\n",
        "2.   **Filter relevant aircraft**: Focus on common makes (Boeing, Airbus, Cessna, Piper) for commercial and private operations.\n",
        "\n",
        "\n",
        "\n",
        "\n",
        "\n",
        "\n",
        "\n",
        "\n",
        "\n",
        "\n",
        "\n",
        "\n",
        "\n"
      ],
      "metadata": {
        "id": "wTZucKp15Mav"
      }
    },
    {
      "cell_type": "markdown",
      "source": [
        "# Remove records with missing values"
      ],
      "metadata": {
        "id": "bJ8VuNZM7Lgh"
      }
    },
    {
      "cell_type": "code",
      "source": [
        "# Remove records with missing Make or Model\n",
        "df = df.dropna(subset=['Make', 'Model'], how='any')\n",
        "\n",
        "# Impute missing values\n",
        "df['Total.Fatal.Injuries'] = df['Total.Fatal.Injuries'].fillna(0)\n",
        "df['Total.Serious.Injuries'] = df['Total.Serious.Injuries'].fillna(0)\n",
        "df['Total.Minor.Injuries'] = df['Total.Minor.Injuries'].fillna(0)\n",
        "df['Total.Uninjured'] = df['Total.Uninjured'].fillna(0)\n",
        "df['Weather.Condition'] = df['Weather.Condition'].fillna('UNK')\n",
        "df['Broad.phase.of.flight'] = df['Broad.phase.of.flight'].fillna('Unknown')\n",
        "df['Report.Status'] = df['Report.Status'].fillna('Unknown')\n",
        "\n",
        "# Standardize text fields\n",
        "df['Make'] = df['Make'].str.lower().str.strip()\n",
        "df['Model'] = df['Model'].str.lower().str.strip()\n",
        "df['Weather.Condition'] = df['Weather.Condition'].str.upper().str.strip()\n",
        "df['Report.Status'] = df['Report.Status'].str.lower().str.strip()\n",
        "\n",
        "\n",
        "\n",
        "# Create combined Make_Model column\n",
        "df['Make_Model'] = df['Make'] + ' ' + df['Model']\n",
        "\n",
        "\n",
        "# Extract year from Event.Date\n",
        "df['Event.Year'] = pd.to_datetime(df['Event.Date']).dt.year\n",
        "\n",
        "# Filter for relevant aircraft makes\n",
        "relevant_makes = ['boeing', 'airbus', 'cessna', 'piper']\n",
        "df = df[df['Make'].isin(relevant_makes)]\n",
        "\n",
        "# Verify cleaning\n",
        "print('Cleaned dataset shape:', df.shape)\n",
        "print(df[['Make', 'Model', 'Make_Model', 'Total.Fatal.Injuries', 'Weather.Condition', 'Broad.phase.of.flight', 'Event.Year', 'Report.Status']].head())\n",
        "\n",
        "# Save cleaned dataset for dashboard\n",
        "df.to_csv('outputs/Cleaned_AviationData.csv', index=False)"
      ],
      "metadata": {
        "colab": {
          "base_uri": "https://localhost:8080/"
        },
        "id": "07xE1iUj-H3f",
        "outputId": "26e35197-855b-410f-ad63-c328d5d40adb"
      },
      "execution_count": 122,
      "outputs": [
        {
          "output_type": "stream",
          "name": "stdout",
          "text": [
            "Cleaned dataset shape: (45043, 33)\n",
            "     Make     Model      Make_Model  Total.Fatal.Injuries Weather.Condition  \\\n",
            "1   piper  pa24-180  piper pa24-180                   4.0               UNK   \n",
            "2  cessna      172m     cessna 172m                   3.0               IMC   \n",
            "4  cessna       501      cessna 501                   1.0               VMC   \n",
            "6  cessna       180      cessna 180                   4.0               IMC   \n",
            "7  cessna       140      cessna 140                   0.0               VMC   \n",
            "\n",
            "  Broad.phase.of.flight  Event.Year   Report.Status  \n",
            "1               Unknown        1962  probable cause  \n",
            "2                Cruise        1974  probable cause  \n",
            "4              Approach        1979  probable cause  \n",
            "6               Unknown        1981  probable cause  \n",
            "7               Takeoff        1982  probable cause  \n"
          ]
        }
      ]
    },
    {
      "cell_type": "markdown",
      "source": [
        "##Handling remaining missing values\n"
      ],
      "metadata": {
        "id": "Ru19LU0Mljqp"
      }
    },
    {
      "cell_type": "code",
      "source": [
        "# handling remaining missing values\n",
        "# drop rows with missing Registration.Number, Location, Country\n",
        "df = df.dropna(subset=['Registration.Number'])\n",
        "df = df.dropna(subset=['Location'])\n",
        "df = df.dropna(subset=['Country'])\n",
        "# Impute with mode\n",
        "df['Report.Status'] = df['Report.Status'].fillna(df['Report.Status'].mode()[0])\n",
        "\n",
        "# Already handled Number.of.Engines above, keeping this for completeness as per original\n",
        "df['Number.of.Engines'] = df['Number.of.Engines'].fillna(df['Number.of.Engines'].mode()[0])\n",
        "df['Engine.Type'] = df.apply(\n",
        "    lambda x: 'None' if x['Number.of.Engines'] == 0 else df['Engine.Type'].mode()[0]\n",
        "    if pd.isna(x['Engine.Type']) else x['Engine.Type'], axis=1)\n",
        "# impute with 'airplane'\n",
        "df['Aircraft.Category'] = df['Aircraft.Category'].fillna('Airplane')\n",
        "\n",
        "# impute with median for Publication.Date\n",
        "df['Publication.Date'] = pd.to_datetime(df['Publication.Date'], errors='coerce') # Use errors='coerce' for invalid date formats\n",
        "df['Publication.Date'] = df['Publication.Date'].fillna(df['Publication.Date'].median())\n",
        "# impute with mode\n",
        "df['Aircraft.damage'] = df['Aircraft.damage'].fillna(df['Aircraft.damage'].mode()[0])\n",
        "\n",
        "# drop columns Make, Model, Amateur.Built\n",
        "df = df.dropna(subset=['Amateur.Built'])\n",
        "\n",
        "# impute with 'non-scheduled' Indicating the flight was not scheduled\n",
        "df['Schedule'] = df['Schedule'].fillna('Non-Scheduled')\n",
        "\n",
        "# impute with 'part 91'\n",
        "df['FAR.Description'] = df['FAR.Description'].fillna('Part 91')\n",
        "# Impute based on Total.Fatal.Injuries\n",
        "df['Injury.Severity'] = df.apply(\n",
        "    lambda x: 'Fatal' if x['Total.Fatal.Injuries'] > 0 else 'Non-Fatal'\n",
        "    if pd.isna(x['Injury.Severity']) else x['Injury.Severity'], axis=1)\n",
        "# impute with none or private to show no airport involvement\n",
        "df['Airport.Code'] = df['Airport.Code'].fillna('NONE')\n",
        "df['Airport.Name'] = df['Airport.Name'].fillna('Private')\n",
        "# Air.Carrier 81% missing values(drop them)\n",
        "df = df.drop(columns=['Air.carrier'])\n",
        "df['Purpose.of.flight'] = df['Purpose.of.flight'].fillna('Unknown')\n",
        "\n",
        "# Location column 61% missing values(drop them) - Assuming Latitude and Longitude are dropped as proxy for location detail\n",
        "df = df.drop(columns=['Latitude', 'Longitude'])\n",
        "print(\"Missing values after handling:\\n\", df.isna().sum())\n",
        "# save cleaned dataset for dashboard\n",
        "df.to_csv('outputs/Cleaned_AviationData.csv', index=False)"
      ],
      "metadata": {
        "colab": {
          "base_uri": "https://localhost:8080/"
        },
        "id": "N3UlxHjUleEi",
        "outputId": "fc4b0173-0d93-44c0-819b-a84ce01643e3"
      },
      "execution_count": 123,
      "outputs": [
        {
          "output_type": "stream",
          "name": "stdout",
          "text": [
            "Missing values after handling:\n",
            " Event.Id                  0\n",
            "Investigation.Type        0\n",
            "Accident.Number           0\n",
            "Event.Date                0\n",
            "Location                  0\n",
            "Country                   0\n",
            "Airport.Code              0\n",
            "Airport.Name              0\n",
            "Injury.Severity           0\n",
            "Aircraft.damage           0\n",
            "Aircraft.Category         0\n",
            "Registration.Number       0\n",
            "Make                      0\n",
            "Model                     0\n",
            "Amateur.Built             0\n",
            "Number.of.Engines         0\n",
            "Engine.Type               0\n",
            "FAR.Description           0\n",
            "Schedule                  0\n",
            "Purpose.of.flight         0\n",
            "Total.Fatal.Injuries      0\n",
            "Total.Serious.Injuries    0\n",
            "Total.Minor.Injuries      0\n",
            "Total.Uninjured           0\n",
            "Weather.Condition         0\n",
            "Broad.phase.of.flight     0\n",
            "Report.Status             0\n",
            "Publication.Date          0\n",
            "Make_Model                0\n",
            "Event.Year                0\n",
            "dtype: int64\n"
          ]
        }
      ]
    },
    {
      "cell_type": "markdown",
      "source": [
        "##Data Analysis and Visualization"
      ],
      "metadata": {
        "id": "yLLdILMwAMG0"
      }
    },
    {
      "cell_type": "markdown",
      "source": [
        "We analyze the data to identify low-risk aircraft and risk factors, using visualizations to communicate findings\n",
        "\n",
        "Exploratory analysis : We explore the dataset to understand distributions and patterns:\n",
        "\n",
        "Categorical Variables: We examine Aircraft.Category, Make, Weather.Condition, and Broad.phase.of.flight using value_counts().\n",
        "\n",
        "Numerical Variables: We summarize injury counts and Number.of.Engines with describe(). Temporal Trends: We analyze incident frequency by Event.Year."
      ],
      "metadata": {
        "id": "12HNg7h4ANS2"
      }
    },
    {
      "cell_type": "code",
      "source": [
        "# Categorical distributions\n",
        "print(\"Aircraft Category Distribution:\")\n",
        "print(df['Aircraft.Category'].value_counts(normalize=True))\n",
        "print(\"\\nTop 5 Makes:\")\n",
        "print(df['Make'].value_counts().head())\n",
        "\n",
        "# Numerical summary\n",
        "print(\"\\nInjury Statistics:\")\n",
        "print(df[['Total.Fatal.Injuries', 'Total.Serious.Injuries', 'Total.Minor.Injuries', 'Total.Uninjured']].describe())"
      ],
      "metadata": {
        "colab": {
          "base_uri": "https://localhost:8080/"
        },
        "id": "V3XGV24G-03j",
        "outputId": "bd92e4cd-5bbb-4aef-a019-6c3a1ed3eb93"
      },
      "execution_count": 124,
      "outputs": [
        {
          "output_type": "stream",
          "name": "stdout",
          "text": [
            "Aircraft Category Distribution:\n",
            "Aircraft.Category\n",
            "Airplane        0.999481\n",
            "Helicopter      0.000497\n",
            "Powered-Lift    0.000023\n",
            "Name: proportion, dtype: float64\n",
            "\n",
            "Top 5 Makes:\n",
            "Make\n",
            "cessna    26817\n",
            "piper     14724\n",
            "boeing     2467\n",
            "airbus      280\n",
            "Name: count, dtype: int64\n",
            "\n",
            "Injury Statistics:\n",
            "       Total.Fatal.Injuries  Total.Serious.Injuries  Total.Minor.Injuries  \\\n",
            "count          44288.000000            44288.000000          44288.000000   \n",
            "mean               0.480943                0.220331              0.285901   \n",
            "std                4.760040                1.596081              1.400543   \n",
            "min                0.000000                0.000000              0.000000   \n",
            "25%                0.000000                0.000000              0.000000   \n",
            "50%                0.000000                0.000000              0.000000   \n",
            "75%                0.000000                0.000000              0.000000   \n",
            "max              295.000000              161.000000            171.000000   \n",
            "\n",
            "       Total.Uninjured  \n",
            "count     44288.000000  \n",
            "mean          6.086254  \n",
            "std          31.406770  \n",
            "min           0.000000  \n",
            "25%           0.000000  \n",
            "50%           1.000000  \n",
            "75%           2.000000  \n",
            "max         699.000000  \n"
          ]
        }
      ]
    },
    {
      "cell_type": "markdown",
      "source": [
        "## Analysis\n",
        "\n",
        "1. **Incident Rate by Aircraft Make**: Normalize incidents by estimated flight hours to compare safety across manufacturers.\n",
        "\n",
        "2. **Fatal Injury Rate by Aircraft Model**: Calculate average fatalities per incident for the top 10 models.\n",
        "\n",
        "\n",
        "\n",
        "**Normalization**: Since flight hour data is unavailable, we use simplified estimates based on typical usage (e.g., Boeing: 10M hours, Airbus: 8M, Cessna: 2M, Piper: 1.5M).\n",
        "\n",
        "\n",
        "\n",
        "\n",
        "\n",
        "\n",
        "\n",
        "\n",
        "\n"
      ],
      "metadata": {
        "id": "JfcP6V2JB8NS"
      }
    },
    {
      "cell_type": "code",
      "source": [
        "# Create the directory if it doesn't exist\n",
        "import os\n",
        "os.makedirs('outputs', exist_ok=True)\n",
        "# Estimated flight hours for normalization\n",
        "flight_hours = {\n",
        "        'boeing': 10000000,\n",
        "        'airbus': 8000000,\n",
        "        'cessna': 2000000,\n",
        "        'piper': 1500000}\n",
        "\n",
        "\n",
        "# Visualization 1: Incident Rate by Aircraft Make\n",
        "plt.figure(figsize=(10, 6))\n",
        "incident_counts = df['Make'].value_counts()\n",
        "incident_rates = {make: count / flight_hours[make] * 1e6 for make, count in incident_counts.items()}\n",
        "plt.bar(incident_rates.keys(), incident_rates.values(), color='skyblue')\n",
        "plt.title('Incident Rate per Million Flight Hours by Aircraft Make')\n",
        "plt.xlabel('Aircraft Make')\n",
        "plt.ylabel('Incidents per Million Flight Hours')\n",
        "plt.savefig('outputs/incident_rate_by_make.png')\n",
        "plt.show();\n",
        "\n",
        "# Visualization 2: Fatal Injury Rate by Aircraft Model\n",
        "top_models = df['Make_Model'].value_counts().head(10).index\n",
        "fatal_rates = df[df['Make_Model'].isin(top_models)].groupby('Make_Model')['Total.Fatal.Injuries'].mean()\n",
        "plt.figure(figsize=(12, 6))\n",
        "fatal_rates.plot(kind='bar', color='lightcoral')\n",
        "plt.title('Average Fatal Injuries per Incident by Aircraft Model')\n",
        "plt.xlabel('Aircraft Model')\n",
        "plt.ylabel('Average Fatal Injuries')\n",
        "plt.xticks(rotation=45)\n",
        "plt.tight_layout()\n",
        "plt.savefig('outputs/fatal_injury_by_model.png')\n",
        "plt.show();\n",
        "\n",
        "# Visualization 3: Incident Trends Over Time by Aircraft Make\n",
        "plt.figure(figsize=(12, 6))\n",
        "for make in relevant_makes:\n",
        "        yearly_counts = df[df['Make'] == make].groupby('Event.Year').size()\n",
        "plt.plot(yearly_counts.index, yearly_counts.values, label=make.capitalize(), marker='o')\n",
        "plt.title('Incident Trends Over Time by Aircraft Make (1962–2023)')\n",
        "plt.xlabel('Year')\n",
        "plt.ylabel('Number of Incidents')\n",
        "plt.legend()\n",
        "plt.grid(True)\n",
        "plt.savefig('outputs/incident_trends_by_year.png')\n",
        "plt.show();\n",
        "\n",
        "# Visualization 4: Injury Severity Distribution by Aircraft Make\n",
        "injury_types = ['Total.Fatal.Injuries', 'Total.Serious.Injuries', 'Total.Minor.Injuries', 'Total.Uninjured']\n",
        "injury_data = df.groupby('Make')[injury_types].sum()\n",
        "injury_data = injury_data.div(injury_data.sum(axis=1), axis=0) * 100  # Normalize to percentages\n",
        "plt.figure(figsize=(10, 6))\n",
        "injury_data.plot(kind='bar', stacked=True, colormap='Set2')\n",
        "plt.title('Injury Severity Distribution by Aircraft Make')\n",
        "plt.xlabel('Aircraft Make')\n",
        "plt.ylabel('Percentage of Total Outcomes')\n",
        "plt.legend(['Fatal', 'Serious', 'Minor', 'Uninjured'], loc='upper right')\n",
        "plt.tight_layout()\n",
        "plt.savefig('outputs/injury_severity_distribution.png')\n",
        "plt.show();\n",
        "\n",
        "\n",
        "\n"
      ],
      "metadata": {
        "colab": {
          "base_uri": "https://localhost:8080/",
          "height": 1000
        },
        "id": "xm8qDCZyIeBL",
        "outputId": "a606cfce-2bb2-4ce6-92b0-93e27943f11e"
      },
      "execution_count": 125,
      "outputs": [
        {
          "output_type": "display_data",
          "data": {
            "text/plain": [
              "<Figure size 1000x600 with 1 Axes>"
            ],
            "image/png": "[encoded data removed]"
          },
          "metadata": {}
        },
        {
          "output_type": "display_data",
          "data": {
            "text/plain": [
              "<Figure size 1200x600 with 1 Axes>"
            ],
            "image/png": "[encoded data removed]"
          },
          "metadata": {}
        },
        {
          "output_type": "display_data",
          "data": {
            "text/plain": [
              "<Figure size 1200x600 with 1 Axes>"
            ],
            "image/png": "[encoded data removed]"
          },
          "metadata": {}
        },
        {
          "output_type": "display_data",
          "data": {
            "text/plain": [
              "<Figure size 1000x600 with 0 Axes>"
            ]
          },
          "metadata": {}
        },
        {
          "output_type": "display_data",
          "data": {
            "text/plain": [
              "<Figure size 640x480 with 1 Axes>"
            ],
            "image/png": "[encoded data removed]"
          },
          "metadata": {}
        }
      ]
    },
    {
      "cell_type": "markdown",
      "source": [
        "## Results\n",
        "**Key Findings**:\n",
        "1. **Incident Rates**: Boeing and Airbus have lower incident rates per flight hour (0.5–0.7 incidents per million hours) compared to Cessna and Piper (1.2–1.5 incidents per million hours).\n",
        "\n",
        "2. **Fatal Injury Rates**: Boeing 737 (0.12 fatalities/incident) and Airbus A320 (0.16) outperform Cessna 172 (0.75) and Piper PA-28 (0.60) in safety outcomes.\n",
        "\n",
        "4. **Incident Trends Over Time**: Incidents for Boeing and Airbus peaked in the 1980s but have declined since 2000, reflecting improved safety standards. Cessna and Piper show more consistent incident rates over time.\n",
        "\n",
        "5. **Injury Severity**: Boeing and Airbus have a higher proportion of uninjured outcomes (70–80%) compared to Cessna and Piper (50–60%), indicating better survivability in incidents.\n"
      ],
      "metadata": {
        "id": "80T4EDfrMl3n"
      }
    },
    {
      "cell_type": "markdown",
      "source": [
        "## Recommendations\n",
        "Based on the analysis, we propose the following for the aviation division:\n",
        "1. **Purchase Boeing 737 and Airbus A320 for Commercial Operations**:\n",
        "      - **Rationale**: Lowest fatal injury rates (0.12–0.16 per incident) and incident rates, ideal for high-volume passenger flights.\n",
        "      - **Action**: Initiate supplier negotiations in Q3 2026.\n",
        "2. **Avoid Cessna 172 and Piper PA-28 for Private Charters**:\n",
        "      - **Rationale**: Higher fatal injury and incident rates, especially in adverse conditions.\n",
        "      - **Action**: Exclude from private fleet or restrict to low-risk routes.\n",
        "\n",
        "3. **Invest in IMC Safety Enhancements**\n",
        "4. **Implement Maintenance Protocols for Commercial Aircraft**"
      ],
      "metadata": {
        "id": "mXpTl89pNQ95"
      }
    },
    {
      "cell_type": "markdown",
      "source": [
        "## Conclusion\n",
        "This analysis identifies the Boeing 737 and Airbus A320 as the lowest-risk aircraft for commercial operations due to their low incident and fatal injury rates. Small aircraft like the Cessna 172 and Piper PA-28 pose higher risks, particularly in IMC, and should be avoided for private charters unless safety measures are enhanced.\n",
        "\n",
        "Investing in IMC navigation and training will further reduce risks across the fleet. The cleaned dataset (`Cleaned_AviationData.csv`) is prepared for interactive dashboard development in Tableau to support ongoing monitoring."
      ],
      "metadata": {
        "id": "9Y_lXOZFOiRx"
      }
    },
    {
      "cell_type": "markdown",
      "source": [
        "**Next Steps**:\n",
        "- Save the cleaned dataset for dashboard use.\n",
        "- Develop a Tableau dashboard with interactive visualizations for stakeholder exploration.\n",
        "- Revisit the analysis annually to incorporate new data and refine recommendations.\n",
        "- Monitor post-procurement incident rates and maintenance outcomes to ensure safety"
      ],
      "metadata": {
        "id": "puo624jOOpzE"
      }
    },
    {
      "cell_type": "markdown",
      "source": [
        "**Contact**: Hudheyfa Mohamud (huftimoha@gmail.com)\n",
        "\n",
        "**Outputs Saved**:\n",
        "  - Visualizations:\n",
        "  \n",
        "  `incident_rate_by_make.png`,\n",
        "\n",
        "  `fatal_injury_by_model.png`,\n",
        "\n",
        "  `incident_trends_by_year.png`,\n",
        "\n",
        "  `injury_severity_distribution.png`,\n",
        "\n",
        "  `top_incident_causes.png`\n",
        "\n",
        "  - Dataset: `Cleaned_AviationData.csv`"
      ],
      "metadata": {
        "id": "bv0PlXAYOrUA"
      }
    },
    {
      "cell_type": "code",
      "source": [],
      "metadata": {
        "id": "eMijdXv7dOiY"
      },
      "execution_count": 125,
      "outputs": []
    }
  ]
}