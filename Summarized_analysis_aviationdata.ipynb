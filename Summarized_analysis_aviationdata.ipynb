{
  "nbformat": 4,
  "nbformat_minor": 0,
  "metadata": {
    "colab": {
      "provenance": []
    },
    "kernelspec": {
      "name": "python3",
      "display_name": "Python 3"
    },
    "language_info": {
      "name": "python"
    }
  },
  "cells": [
    {
      "cell_type": "markdown",
      "source": [
        "# Aviation Risk Analysis for Safe Aircraft Acquisition\n",
        "\n",
        "## Introduction\n",
        "This Jupyter Notebook examines historical aviation accident data from the National Transportation Safety Board (NTSB). The goal is to find low-risk aircraft for a company starting a new aviation division. We aim to give data-driven suggestions for buying safe aircraft, reducing safety risks and liabilities. Using Python, pandas, numpy, and matplotlib, we will clean, preprocess, analyze, and visualize the data. This process will help us assess accident rates, injury severities, and contributing factors. This document is tailored for a data science audience familiar with Python and data analysis, offering a straightforward and reproducible workflow with Markdown for context and Python for execution. All cells can be run in sequence after restarting the kernel. The notebook will be submitted as a PDF on Canvas and as an `.ipynb` file in a GitHub repository.\n"
      ],
      "metadata": {
        "id": "-YR_yOh6LlN0"
      }
    },
    {
      "cell_type": "markdown",
      "source": [
        "## Business Understanding\n",
        "The company, new to the aviation sector, seeks to acquire aircraft for both commercial and private use while minimizing safety risks. The challenge is to pinpoint makes, models, or categories of aircraft with the lowest accident and injury rates, answering these questions:\n",
        "- Which aircraft have the lowest accident and injury rates?\n",
        "- What factors, such as weather or flight phase, contribute to risks?\n",
        "- Which aircraft should the company focus on acquiring?\n",
        "\n",
        "The main stakeholder, the head of the aviation division, needs practical insights to support purchasing decisions. This analysis uses NTSB data to propose low-risk aircraft, ensuring a safe entry into the market.\n"
      ],
      "metadata": {
        "id": "iTRElCKELvoJ"
      }
    },
    {
      "cell_type": "markdown",
      "source": [],
      "metadata": {
        "id": "tHUpUMJLLsmu"
      }
    },
    {
      "cell_type": "markdown",
      "source": [
        "## Data Understanding\n",
        "### Data Source\n",
        "The dataset, `AviationData.csv`, is sourced from [Kaggle](https://www.kaggle.com/datasets/khsamaha/aviation-accident-database-synopses). It contains 88,889 records of civil aviation accidents and incidents in the U.S. and international waters from 1962 to 2023. The dataset has 31 columns, including:\n",
        "- **Event Details**: `Event.Id`, `Investigation.Type`, `Accident.Number`, `Event.Date`\n",
        "- **Geographical Data**: `Location`, `Country`, `Latitude`, `Longitude`, `Airport.Code`, `Airport.Name`\n",
        "- **Injury Statistics**: `Total.Fatal.Injuries`, `Total.Serious.Injuries`, `Total.Minor.Injuries`, `Total.Uninjured`\n",
        "- **Aircraft Information**: `Make`, `Model`, `Aircraft.Category`, `Registration.Number`, `Amateur.Built`, `Number.of.Engines`, `Engine.Type`, `Aircraft.damage`\n",
        "- **Flight Details**: `Purpose.of.flight`, `Air.carrier`, `Schedule`, `FAR.Description`, `Weather.Condition`, `Broad.phase.of.flight`\n",
        "- **Report Details**: `Report.Status`, `Publication.Date`\n"
      ],
      "metadata": {
        "id": "qIMBSUe4L2WU"
      }
    },
    {
      "cell_type": "markdown",
      "source": [
        "### Initial Exploration\n",
        "We load the dataset and examine its structure to understand its contents and identify issues like missing values, mixed data types, and 'unknown' values.\n"
      ],
      "metadata": {
        "id": "_FwFnjzlL8Hg"
      }
    },
    {
      "cell_type": "code",
      "source": [
        "# Import libraries\n",
        "import pandas as pd\n",
        "import numpy as np\n",
        "import matplotlib.pyplot as plt\n",
        "\n",
        "# Load dataset\n",
        "df = pd.read_csv('/content/AviationData.csv', encoding='latin1', low_memory=False)\n",
        "\n",
        "# Display shape and first five rows\n",
        "print(f\"Dataset Shape: {df.shape}\")\n",
        "df.head()"
      ],
      "metadata": {
        "colab": {
          "base_uri": "https://localhost:8080/",
          "height": 359
        },
        "id": "6W8bPjAjMBhf",
        "outputId": "45bbbcdb-e1da-4d0d-8eb0-99ffe4f75709"
      },
      "execution_count": 10,
      "outputs": [
        {
          "output_type": "stream",
          "name": "stdout",
          "text": [
            "Dataset Shape: (88889, 31)\n"
          ]
        },
        {
          "output_type": "execute_result",
          "data": {
            "text/plain": [
              "         Event.Id Investigation.Type Accident.Number  Event.Date  \\\n",
              "0  20001218X45444           Accident      SEA87LA080  1948-10-24   \n",
              "1  20001218X45447           Accident      LAX94LA336  1962-07-19   \n",
              "2  20061025X01555           Accident      NYC07LA005  1974-08-30   \n",
              "3  20001218X45448           Accident      LAX96LA321  1977-06-19   \n",
              "4  20041105X01764           Accident      CHI79FA064  1979-08-02   \n",
              "\n",
              "          Location        Country   Latitude   Longitude Airport.Code  \\\n",
              "0  MOOSE CREEK, ID  United States        NaN         NaN          NaN   \n",
              "1   BRIDGEPORT, CA  United States        NaN         NaN          NaN   \n",
              "2    Saltville, VA  United States  36.922223  -81.878056          NaN   \n",
              "3       EUREKA, CA  United States        NaN         NaN          NaN   \n",
              "4       Canton, OH  United States        NaN         NaN          NaN   \n",
              "\n",
              "  Airport.Name  ... Purpose.of.flight Air.carrier Total.Fatal.Injuries  \\\n",
              "0          NaN  ...          Personal         NaN                  2.0   \n",
              "1          NaN  ...          Personal         NaN                  4.0   \n",
              "2          NaN  ...          Personal         NaN                  3.0   \n",
              "3          NaN  ...          Personal         NaN                  2.0   \n",
              "4          NaN  ...          Personal         NaN                  1.0   \n",
              "\n",
              "  Total.Serious.Injuries Total.Minor.Injuries Total.Uninjured  \\\n",
              "0                    0.0                  0.0             0.0   \n",
              "1                    0.0                  0.0             0.0   \n",
              "2                    NaN                  NaN             NaN   \n",
              "3                    0.0                  0.0             0.0   \n",
              "4                    2.0                  NaN             0.0   \n",
              "\n",
              "  Weather.Condition  Broad.phase.of.flight   Report.Status Publication.Date  \n",
              "0               UNK                 Cruise  Probable Cause              NaN  \n",
              "1               UNK                Unknown  Probable Cause       19-09-1996  \n",
              "2               IMC                 Cruise  Probable Cause       26-02-2007  \n",
              "3               IMC                 Cruise  Probable Cause       12-09-2000  \n",
              "4               VMC               Approach  Probable Cause       16-04-1980  \n",
              "\n",
              "[5 rows x 31 columns]"
            ],
            "text/html": [
              "\n",
              "  <div id=\"df-646f9e4b-9484-45d2-9343-1d4c8c0fb48e\" class=\"colab-df-container\">\n",
              "    <div>\n",
              "<style scoped>\n",
              "    .dataframe tbody tr th:only-of-type {\n",
              "        vertical-align: middle;\n",
              "    }\n",
              "\n",
              "    .dataframe tbody tr th {\n",
              "        vertical-align: top;\n",
              "    }\n",
              "\n",
              "    .dataframe thead th {\n",
              "        text-align: right;\n",
              "    }\n",
              "</style>\n",
              "<table border=\"1\" class=\"dataframe\">\n",
              "  <thead>\n",
              "    <tr style=\"text-align: right;\">\n",
              "      <th></th>\n",
              "      <th>Event.Id</th>\n",
              "      <th>Investigation.Type</th>\n",
              "      <th>Accident.Number</th>\n",
              "      <th>Event.Date</th>\n",
              "      <th>Location</th>\n",
              "      <th>Country</th>\n",
              "      <th>Latitude</th>\n",
              "      <th>Longitude</th>\n",
              "      <th>Airport.Code</th>\n",
              "      <th>Airport.Name</th>\n",
              "      <th>...</th>\n",
              "      <th>Purpose.of.flight</th>\n",
              "      <th>Air.carrier</th>\n",
              "      <th>Total.Fatal.Injuries</th>\n",
              "      <th>Total.Serious.Injuries</th>\n",
              "      <th>Total.Minor.Injuries</th>\n",
              "      <th>Total.Uninjured</th>\n",
              "      <th>Weather.Condition</th>\n",
              "      <th>Broad.phase.of.flight</th>\n",
              "      <th>Report.Status</th>\n",
              "      <th>Publication.Date</th>\n",
              "    </tr>\n",
              "  </thead>\n",
              "  <tbody>\n",
              "    <tr>\n",
              "      <th>0</th>\n",
              "      <td>20001218X45444</td>\n",
              "      <td>Accident</td>\n",
              "      <td>SEA87LA080</td>\n",
              "      <td>1948-10-24</td>\n",
              "      <td>MOOSE CREEK, ID</td>\n",
              "      <td>United States</td>\n",
              "      <td>NaN</td>\n",
              "      <td>NaN</td>\n",
              "      <td>NaN</td>\n",
              "      <td>NaN</td>\n",
              "      <td>...</td>\n",
              "      <td>Personal</td>\n",
              "      <td>NaN</td>\n",
              "      <td>2.0</td>\n",
              "      <td>0.0</td>\n",
              "      <td>0.0</td>\n",
              "      <td>0.0</td>\n",
              "      <td>UNK</td>\n",
              "      <td>Cruise</td>\n",
              "      <td>Probable Cause</td>\n",
              "      <td>NaN</td>\n",
              "    </tr>\n",
              "    <tr>\n",
              "      <th>1</th>\n",
              "      <td>20001218X45447</td>\n",
              "      <td>Accident</td>\n",
              "      <td>LAX94LA336</td>\n",
              "      <td>1962-07-19</td>\n",
              "      <td>BRIDGEPORT, CA</td>\n",
              "      <td>United States</td>\n",
              "      <td>NaN</td>\n",
              "      <td>NaN</td>\n",
              "      <td>NaN</td>\n",
              "      <td>NaN</td>\n",
              "      <td>...</td>\n",
              "      <td>Personal</td>\n",
              "      <td>NaN</td>\n",
              "      <td>4.0</td>\n",
              "      <td>0.0</td>\n",
              "      <td>0.0</td>\n",
              "      <td>0.0</td>\n",
              "      <td>UNK</td>\n",
              "      <td>Unknown</td>\n",
              "      <td>Probable Cause</td>\n",
              "      <td>19-09-1996</td>\n",
              "    </tr>\n",
              "    <tr>\n",
              "      <th>2</th>\n",
              "      <td>20061025X01555</td>\n",
              "      <td>Accident</td>\n",
              "      <td>NYC07LA005</td>\n",
              "      <td>1974-08-30</td>\n",
              "      <td>Saltville, VA</td>\n",
              "      <td>United States</td>\n",
              "      <td>36.922223</td>\n",
              "      <td>-81.878056</td>\n",
              "      <td>NaN</td>\n",
              "      <td>NaN</td>\n",
              "      <td>...</td>\n",
              "      <td>Personal</td>\n",
              "      <td>NaN</td>\n",
              "      <td>3.0</td>\n",
              "      <td>NaN</td>\n",
              "      <td>NaN</td>\n",
              "      <td>NaN</td>\n",
              "      <td>IMC</td>\n",
              "      <td>Cruise</td>\n",
              "      <td>Probable Cause</td>\n",
              "      <td>26-02-2007</td>\n",
              "    </tr>\n",
              "    <tr>\n",
              "      <th>3</th>\n",
              "      <td>20001218X45448</td>\n",
              "      <td>Accident</td>\n",
              "      <td>LAX96LA321</td>\n",
              "      <td>1977-06-19</td>\n",
              "      <td>EUREKA, CA</td>\n",
              "      <td>United States</td>\n",
              "      <td>NaN</td>\n",
              "      <td>NaN</td>\n",
              "      <td>NaN</td>\n",
              "      <td>NaN</td>\n",
              "      <td>...</td>\n",
              "      <td>Personal</td>\n",
              "      <td>NaN</td>\n",
              "      <td>2.0</td>\n",
              "      <td>0.0</td>\n",
              "      <td>0.0</td>\n",
              "      <td>0.0</td>\n",
              "      <td>IMC</td>\n",
              "      <td>Cruise</td>\n",
              "      <td>Probable Cause</td>\n",
              "      <td>12-09-2000</td>\n",
              "    </tr>\n",
              "    <tr>\n",
              "      <th>4</th>\n",
              "      <td>20041105X01764</td>\n",
              "      <td>Accident</td>\n",
              "      <td>CHI79FA064</td>\n",
              "      <td>1979-08-02</td>\n",
              "      <td>Canton, OH</td>\n",
              "      <td>United States</td>\n",
              "      <td>NaN</td>\n",
              "      <td>NaN</td>\n",
              "      <td>NaN</td>\n",
              "      <td>NaN</td>\n",
              "      <td>...</td>\n",
              "      <td>Personal</td>\n",
              "      <td>NaN</td>\n",
              "      <td>1.0</td>\n",
              "      <td>2.0</td>\n",
              "      <td>NaN</td>\n",
              "      <td>0.0</td>\n",
              "      <td>VMC</td>\n",
              "      <td>Approach</td>\n",
              "      <td>Probable Cause</td>\n",
              "      <td>16-04-1980</td>\n",
              "    </tr>\n",
              "  </tbody>\n",
              "</table>\n",
              "<p>5 rows × 31 columns</p>\n",
              "</div>\n",
              "    <div class=\"colab-df-buttons\">\n",
              "\n",
              "  <div class=\"colab-df-container\">\n",
              "    <button class=\"colab-df-convert\" onclick=\"convertToInteractive('df-646f9e4b-9484-45d2-9343-1d4c8c0fb48e')\"\n",
              "            title=\"Convert this dataframe to an interactive table.\"\n",
              "            style=\"display:none;\">\n",
              "\n",
              "  <svg xmlns=\"http://www.w3.org/2000/svg\" height=\"24px\" viewBox=\"0 -960 960 960\">\n",
              "    <path d=\"M120-120v-720h720v720H120Zm60-500h600v-160H180v160Zm220 220h160v-160H400v160Zm0 220h160v-160H400v160ZM180-400h160v-160H180v160Zm440 0h160v-160H620v160ZM180-180h160v-160H180v160Zm440 0h160v-160H620v160Z\"/>\n",
              "  </svg>\n",
              "    </button>\n",
              "\n",
              "  <style>\n",
              "    .colab-df-container {\n",
              "      display:flex;\n",
              "      gap: 12px;\n",
              "    }\n",
              "\n",
              "    .colab-df-convert {\n",
              "      background-color: #E8F0FE;\n",
              "      border: none;\n",
              "      border-radius: 50%;\n",
              "      cursor: pointer;\n",
              "      display: none;\n",
              "      fill: #1967D2;\n",
              "      height: 32px;\n",
              "      padding: 0 0 0 0;\n",
              "      width: 32px;\n",
              "    }\n",
              "\n",
              "    .colab-df-convert:hover {\n",
              "      background-color: #E2EBFA;\n",
              "      box-shadow: 0px 1px 2px rgba(60, 64, 67, 0.3), 0px 1px 3px 1px rgba(60, 64, 67, 0.15);\n",
              "      fill: #174EA6;\n",
              "    }\n",
              "\n",
              "    .colab-df-buttons div {\n",
              "      margin-bottom: 4px;\n",
              "    }\n",
              "\n",
              "    [theme=dark] .colab-df-convert {\n",
              "      background-color: #3B4455;\n",
              "      fill: #D2E3FC;\n",
              "    }\n",
              "\n",
              "    [theme=dark] .colab-df-convert:hover {\n",
              "      background-color: #434B5C;\n",
              "      box-shadow: 0px 1px 3px 1px rgba(0, 0, 0, 0.15);\n",
              "      filter: drop-shadow(0px 1px 2px rgba(0, 0, 0, 0.3));\n",
              "      fill: #FFFFFF;\n",
              "    }\n",
              "  </style>\n",
              "\n",
              "    <script>\n",
              "      const buttonEl =\n",
              "        document.querySelector('#df-646f9e4b-9484-45d2-9343-1d4c8c0fb48e button.colab-df-convert');\n",
              "      buttonEl.style.display =\n",
              "        google.colab.kernel.accessAllowed ? 'block' : 'none';\n",
              "\n",
              "      async function convertToInteractive(key) {\n",
              "        const element = document.querySelector('#df-646f9e4b-9484-45d2-9343-1d4c8c0fb48e');\n",
              "        const dataTable =\n",
              "          await google.colab.kernel.invokeFunction('convertToInteractive',\n",
              "                                                    [key], {});\n",
              "        if (!dataTable) return;\n",
              "\n",
              "        const docLinkHtml = 'Like what you see? Visit the ' +\n",
              "          '<a target=\"_blank\" href=https://colab.research.google.com/notebooks/data_table.ipynb>data table notebook</a>'\n",
              "          + ' to learn more about interactive tables.';\n",
              "        element.innerHTML = '';\n",
              "        dataTable['output_type'] = 'display_data';\n",
              "        await google.colab.output.renderOutput(dataTable, element);\n",
              "        const docLink = document.createElement('div');\n",
              "        docLink.innerHTML = docLinkHtml;\n",
              "        element.appendChild(docLink);\n",
              "      }\n",
              "    </script>\n",
              "  </div>\n",
              "\n",
              "\n",
              "    <div id=\"df-b4a94326-df02-4ed8-8153-357ba52bca85\">\n",
              "      <button class=\"colab-df-quickchart\" onclick=\"quickchart('df-b4a94326-df02-4ed8-8153-357ba52bca85')\"\n",
              "                title=\"Suggest charts\"\n",
              "                style=\"display:none;\">\n",
              "\n",
              "<svg xmlns=\"http://www.w3.org/2000/svg\" height=\"24px\"viewBox=\"0 0 24 24\"\n",
              "     width=\"24px\">\n",
              "    <g>\n",
              "        <path d=\"M19 3H5c-1.1 0-2 .9-2 2v14c0 1.1.9 2 2 2h14c1.1 0 2-.9 2-2V5c0-1.1-.9-2-2-2zM9 17H7v-7h2v7zm4 0h-2V7h2v10zm4 0h-2v-4h2v4z\"/>\n",
              "    </g>\n",
              "</svg>\n",
              "      </button>\n",
              "\n",
              "<style>\n",
              "  .colab-df-quickchart {\n",
              "      --bg-color: #E8F0FE;\n",
              "      --fill-color: #1967D2;\n",
              "      --hover-bg-color: #E2EBFA;\n",
              "      --hover-fill-color: #174EA6;\n",
              "      --disabled-fill-color: #AAA;\n",
              "      --disabled-bg-color: #DDD;\n",
              "  }\n",
              "\n",
              "  [theme=dark] .colab-df-quickchart {\n",
              "      --bg-color: #3B4455;\n",
              "      --fill-color: #D2E3FC;\n",
              "      --hover-bg-color: #434B5C;\n",
              "      --hover-fill-color: #FFFFFF;\n",
              "      --disabled-bg-color: #3B4455;\n",
              "      --disabled-fill-color: #666;\n",
              "  }\n",
              "\n",
              "  .colab-df-quickchart {\n",
              "    background-color: var(--bg-color);\n",
              "    border: none;\n",
              "    border-radius: 50%;\n",
              "    cursor: pointer;\n",
              "    display: none;\n",
              "    fill: var(--fill-color);\n",
              "    height: 32px;\n",
              "    padding: 0;\n",
              "    width: 32px;\n",
              "  }\n",
              "\n",
              "  .colab-df-quickchart:hover {\n",
              "    background-color: var(--hover-bg-color);\n",
              "    box-shadow: 0 1px 2px rgba(60, 64, 67, 0.3), 0 1px 3px 1px rgba(60, 64, 67, 0.15);\n",
              "    fill: var(--button-hover-fill-color);\n",
              "  }\n",
              "\n",
              "  .colab-df-quickchart-complete:disabled,\n",
              "  .colab-df-quickchart-complete:disabled:hover {\n",
              "    background-color: var(--disabled-bg-color);\n",
              "    fill: var(--disabled-fill-color);\n",
              "    box-shadow: none;\n",
              "  }\n",
              "\n",
              "  .colab-df-spinner {\n",
              "    border: 2px solid var(--fill-color);\n",
              "    border-color: transparent;\n",
              "    border-bottom-color: var(--fill-color);\n",
              "    animation:\n",
              "      spin 1s steps(1) infinite;\n",
              "  }\n",
              "\n",
              "  @keyframes spin {\n",
              "    0% {\n",
              "      border-color: transparent;\n",
              "      border-bottom-color: var(--fill-color);\n",
              "      border-left-color: var(--fill-color);\n",
              "    }\n",
              "    20% {\n",
              "      border-color: transparent;\n",
              "      border-left-color: var(--fill-color);\n",
              "      border-top-color: var(--fill-color);\n",
              "    }\n",
              "    30% {\n",
              "      border-color: transparent;\n",
              "      border-left-color: var(--fill-color);\n",
              "      border-top-color: var(--fill-color);\n",
              "      border-right-color: var(--fill-color);\n",
              "    }\n",
              "    40% {\n",
              "      border-color: transparent;\n",
              "      border-right-color: var(--fill-color);\n",
              "      border-top-color: var(--fill-color);\n",
              "    }\n",
              "    60% {\n",
              "      border-color: transparent;\n",
              "      border-right-color: var(--fill-color);\n",
              "    }\n",
              "    80% {\n",
              "      border-color: transparent;\n",
              "      border-right-color: var(--fill-color);\n",
              "      border-bottom-color: var(--fill-color);\n",
              "    }\n",
              "    90% {\n",
              "      border-color: transparent;\n",
              "      border-bottom-color: var(--fill-color);\n",
              "    }\n",
              "  }\n",
              "</style>\n",
              "\n",
              "      <script>\n",
              "        async function quickchart(key) {\n",
              "          const quickchartButtonEl =\n",
              "            document.querySelector('#' + key + ' button');\n",
              "          quickchartButtonEl.disabled = true;  // To prevent multiple clicks.\n",
              "          quickchartButtonEl.classList.add('colab-df-spinner');\n",
              "          try {\n",
              "            const charts = await google.colab.kernel.invokeFunction(\n",
              "                'suggestCharts', [key], {});\n",
              "          } catch (error) {\n",
              "            console.error('Error during call to suggestCharts:', error);\n",
              "          }\n",
              "          quickchartButtonEl.classList.remove('colab-df-spinner');\n",
              "          quickchartButtonEl.classList.add('colab-df-quickchart-complete');\n",
              "        }\n",
              "        (() => {\n",
              "          let quickchartButtonEl =\n",
              "            document.querySelector('#df-b4a94326-df02-4ed8-8153-357ba52bca85 button');\n",
              "          quickchartButtonEl.style.display =\n",
              "            google.colab.kernel.accessAllowed ? 'block' : 'none';\n",
              "        })();\n",
              "      </script>\n",
              "    </div>\n",
              "\n",
              "    </div>\n",
              "  </div>\n"
            ],
            "application/vnd.google.colaboratory.intrinsic+json": {
              "type": "dataframe",
              "variable_name": "df"
            }
          },
          "metadata": {},
          "execution_count": 10
        }
      ]
    },
    {
      "cell_type": "markdown",
      "source": [
        "Columns include Event.Id, Event.Date, Location, Make, Model, injury counts, etc., with missing values in Latitude, Longitude, Airport.Code, and 'unknown' or 'UNK' in fields like Weather.Condition.\n",
        "\n",
        "###Data Challenges\n",
        "\n",
        "Missing Values: There are significant null values in Latitude (54,507), Longitude (54,516), Airport.Code (38,549), Air.carrier (72,022), and others.\n",
        "Mixed Data Types: Columns like Latitude and Longitude have mixed types, leading to a DtypeWarning.\n",
        "'Unknown' Values: Categorical fields such as Weather.Condition (e.g., 'UNK'), Broad.phase.of.flight (e.g., 'Unknown'), and Aircraft.Category have 'unknown' values that could impact the analysis.\n",
        "Temporal Span: Data from 1962 to 2023 includes outdated aircraft, requiring filtering for modern relevance.\n",
        "\n"
      ],
      "metadata": {
        "id": "4YIkdH6UNTnn"
      }
    },
    {
      "cell_type": "code",
      "source": [
        "# Check missing values and 'unknown' values\n",
        "print(\"Missing Values:\")\n",
        "print(df.isna().sum())\n",
        "print(\"\\n'Unknown' Values in Key Columns:\")\n",
        "for col in ['Weather.Condition', 'Broad.phase.of.flight', 'Aircraft.Category']:\n",
        "    print(f\"{col}: {(df[col].str.lower() == 'unknown').sum() + (df[col] == 'UNK').sum()}\")"
      ],
      "metadata": {
        "colab": {
          "base_uri": "https://localhost:8080/"
        },
        "id": "FWY-5PNaNgni",
        "outputId": "8546d7f2-f4c4-4a4b-8b8c-4f62dec39c7d"
      },
      "execution_count": 11,
      "outputs": [
        {
          "output_type": "stream",
          "name": "stdout",
          "text": [
            "Missing Values:\n",
            "Event.Id                      0\n",
            "Investigation.Type            0\n",
            "Accident.Number               0\n",
            "Event.Date                    0\n",
            "Location                     52\n",
            "Country                     226\n",
            "Latitude                  54507\n",
            "Longitude                 54516\n",
            "Airport.Code              38757\n",
            "Airport.Name              36185\n",
            "Injury.Severity            1000\n",
            "Aircraft.damage            3194\n",
            "Aircraft.Category         56602\n",
            "Registration.Number        1382\n",
            "Make                         63\n",
            "Model                        92\n",
            "Amateur.Built               102\n",
            "Number.of.Engines          6084\n",
            "Engine.Type                7096\n",
            "FAR.Description           56866\n",
            "Schedule                  76307\n",
            "Purpose.of.flight          6192\n",
            "Air.carrier               72241\n",
            "Total.Fatal.Injuries      11401\n",
            "Total.Serious.Injuries    12510\n",
            "Total.Minor.Injuries      11933\n",
            "Total.Uninjured            5912\n",
            "Weather.Condition          4492\n",
            "Broad.phase.of.flight     27165\n",
            "Report.Status              6384\n",
            "Publication.Date          13771\n",
            "dtype: int64\n",
            "\n",
            "'Unknown' Values in Key Columns:\n",
            "Weather.Condition: 856\n",
            "Broad.phase.of.flight: 548\n",
            "Aircraft.Category: 16\n"
          ]
        }
      ]
    },
    {
      "cell_type": "markdown",
      "source": [
        "##Data Preparation\n",
        "Cleaning and Imputation\n",
        "We will ensure data quality by cleaning the dataset, addressing missing values, correcting data types, and creating new features:\n",
        "\n",
        "###Dropping Rows: Remove rows missing critical fields, such as Location, Country, Make, Model, and Amateur.Built, to maintain data integrity."
      ],
      "metadata": {
        "id": "VE7i-w9EN9uX"
      }
    },
    {
      "cell_type": "markdown",
      "source": [
        "###Numerical Imputation:\n",
        "For Latitude and Longitude, convert to numeric and fill in with medians.\n",
        "For injury columns (Total.Fatal.Injuries, etc.), fill with 0, assuming no injuries if data is missing.\n",
        "For Number.of.Engines, fill with the median.\n"
      ],
      "metadata": {
        "id": "bRg2K2jYOOxB"
      }
    },
    {
      "cell_type": "markdown",
      "source": [
        "####Categorical Imputation:\n",
        "We will fill all categorical columns (Airport.Code, Airport.Name, Aircraft.Category, FAR.Description, Schedule, Broad.phase.of.flight, Registration.Number, Air.carrier, Injury.Severity, Aircraft.damage, Engine.Type, Purpose.of.flight, Weather.Condition, Report.Status, Publication.Date) with their respective mode values to maintain consistency and lessen the occurrence of 'unknown' values.\n"
      ],
      "metadata": {
        "id": "TZiiDRhgOYRj"
      }
    },
    {
      "cell_type": "markdown",
      "source": [
        "###Type Conversion: Convert Event.Date to datetime and ensure that injury columns are integers.\n",
        "Feature Engineering: Extract Event.Year from Event.Date for temporal analysis.\n",
        "Duplicate Check: Confirm there are no duplicate rows.\n"
      ],
      "metadata": {
        "id": "ewOFC4JlO8tp"
      }
    },
    {
      "cell_type": "code",
      "source": [
        "# Drop rows with missing critical fields\n",
        "df = df.dropna(subset=['Location', 'Country', 'Make', 'Model', 'Amateur.Built'])\n",
        "\n",
        "# Impute numerical columns\n",
        "# Inspect unique values before conversion\n",
        "print(\"Unique values in Latitude before conversion:\")\n",
        "print(df['Latitude'].unique()[:20]) # Print first 20 unique values\n",
        "print(\"\\nUnique values in Longitude before conversion:\")\n",
        "print(df['Longitude'].unique()[:20]) # Print first 20 unique values\n",
        "\n",
        "df['Latitude'] = pd.to_numeric(df['Latitude'], errors='coerce')\n",
        "df['Latitude'] = df['Latitude'].fillna(df['Latitude'].median())\n",
        "df['Longitude'] = pd.to_numeric(df['Longitude'], errors='coerce')\n",
        "df['Longitude'] = df['Longitude'].fillna(df['Longitude'].median())\n",
        "for col in ['Total.Fatal.Injuries', 'Total.Serious.Injuries', 'Total.Minor.Injuries', 'Total.Uninjured']:\n",
        "    df[col] = df[col].fillna(0).astype(int)\n",
        "df['Number.of.Engines'] = df['Number.of.Engines'].fillna(df['Number.of.Engines'].median())\n",
        "\n",
        "# Impute all categorical columns with their respective mode\n",
        "categorical_columns = ['Airport.Code', 'Airport.Name', 'Aircraft.Category', 'FAR.Description',\n",
        "                      'Schedule', 'Broad.phase.of.flight', 'Registration.Number', 'Air.carrier',\n",
        "                      'Injury.Severity', 'Aircraft.damage', 'Engine.Type', 'Purpose.of.flight',\n",
        "                      'Weather.Condition', 'Report.Status', 'Publication.Date']\n",
        "for col in categorical_columns:\n",
        "    df[col] = df[col].fillna(df[col].mode()[0])\n",
        "\n",
        "# Convert data types\n",
        "df['Event.Date'] = pd.to_datetime(df['Event.Date'])\n",
        "df['Event.Year'] = df['Event.Date'].dt.year\n",
        "\n",
        "# Check for duplicates\n",
        "print(f\"Duplicates: {df.duplicated().sum()}\")\n",
        "\n",
        "# Verify no missing values\n",
        "print(f\"Final Shape: {df.shape}\")\n",
        "print(\"Missing Values After Cleaning:\")\n",
        "print(df.isna().sum())\n",
        "\n",
        "# Re-check 'unknown' values\n",
        "print(\"\\n'Unknown' Values After Cleaning:\")\n",
        "for col in ['Weather.Condition', 'Broad.phase.of.flight', 'Aircraft.Category']:\n",
        "    print(f\"{col}: {(df[col].str.lower() == 'unknown').sum() + (df[col] == 'UNK').sum()}\")"
      ],
      "metadata": {
        "colab": {
          "base_uri": "https://localhost:8080/"
        },
        "id": "UjVleQzdOZ_P",
        "outputId": "37045ef9-165a-40ea-c77a-1eed1ee4eba3"
      },
      "execution_count": 12,
      "outputs": [
        {
          "output_type": "stream",
          "name": "stdout",
          "text": [
            "Unique values in Latitude before conversion:\n",
            "[nan '36.922223' '42.445277' '30.757778' '46.041111' '48.12' '38.54'\n",
            " '46.154444' '70.333333' '30.383611' '38.335' '45.928334' '29.607222'\n",
            " '35.389722' '33.948611' '64.8' '41.908889' '47.852222' '33.938611'\n",
            " '38.981667']\n",
            "\n",
            "Unique values in Longitude before conversion:\n",
            "[nan '-81.878056' '-70.758333' '-88.355555' '-120.849722' '-113.8875'\n",
            " '-173.24' '-85.663611' '-150.933333' '-103.783334' '-80.28' '-84.825556'\n",
            " '-95.158611' '-83.920556' '-118.413611' '-147.866111' '-70.728611'\n",
            " '-116.475278' '-118.408889' '-119.672778']\n"
          ]
        },
        {
          "output_type": "stream",
          "name": "stderr",
          "text": [
            "/tmp/ipython-input-12-3826404965.py:11: SettingWithCopyWarning: \n",
            "A value is trying to be set on a copy of a slice from a DataFrame.\n",
            "Try using .loc[row_indexer,col_indexer] = value instead\n",
            "\n",
            "See the caveats in the documentation: https://pandas.pydata.org/pandas-docs/stable/user_guide/indexing.html#returning-a-view-versus-a-copy\n",
            "  df['Latitude'] = pd.to_numeric(df['Latitude'], errors='coerce')\n",
            "/tmp/ipython-input-12-3826404965.py:12: SettingWithCopyWarning: \n",
            "A value is trying to be set on a copy of a slice from a DataFrame.\n",
            "Try using .loc[row_indexer,col_indexer] = value instead\n",
            "\n",
            "See the caveats in the documentation: https://pandas.pydata.org/pandas-docs/stable/user_guide/indexing.html#returning-a-view-versus-a-copy\n",
            "  df['Latitude'] = df['Latitude'].fillna(df['Latitude'].median())\n",
            "/tmp/ipython-input-12-3826404965.py:13: SettingWithCopyWarning: \n",
            "A value is trying to be set on a copy of a slice from a DataFrame.\n",
            "Try using .loc[row_indexer,col_indexer] = value instead\n",
            "\n",
            "See the caveats in the documentation: https://pandas.pydata.org/pandas-docs/stable/user_guide/indexing.html#returning-a-view-versus-a-copy\n",
            "  df['Longitude'] = pd.to_numeric(df['Longitude'], errors='coerce')\n",
            "/tmp/ipython-input-12-3826404965.py:14: SettingWithCopyWarning: \n",
            "A value is trying to be set on a copy of a slice from a DataFrame.\n",
            "Try using .loc[row_indexer,col_indexer] = value instead\n",
            "\n",
            "See the caveats in the documentation: https://pandas.pydata.org/pandas-docs/stable/user_guide/indexing.html#returning-a-view-versus-a-copy\n",
            "  df['Longitude'] = df['Longitude'].fillna(df['Longitude'].median())\n",
            "/tmp/ipython-input-12-3826404965.py:16: SettingWithCopyWarning: \n",
            "A value is trying to be set on a copy of a slice from a DataFrame.\n",
            "Try using .loc[row_indexer,col_indexer] = value instead\n",
            "\n",
            "See the caveats in the documentation: https://pandas.pydata.org/pandas-docs/stable/user_guide/indexing.html#returning-a-view-versus-a-copy\n",
            "  df[col] = df[col].fillna(0).astype(int)\n",
            "/tmp/ipython-input-12-3826404965.py:16: SettingWithCopyWarning: \n",
            "A value is trying to be set on a copy of a slice from a DataFrame.\n",
            "Try using .loc[row_indexer,col_indexer] = value instead\n",
            "\n",
            "See the caveats in the documentation: https://pandas.pydata.org/pandas-docs/stable/user_guide/indexing.html#returning-a-view-versus-a-copy\n",
            "  df[col] = df[col].fillna(0).astype(int)\n",
            "/tmp/ipython-input-12-3826404965.py:16: SettingWithCopyWarning: \n",
            "A value is trying to be set on a copy of a slice from a DataFrame.\n",
            "Try using .loc[row_indexer,col_indexer] = value instead\n",
            "\n",
            "See the caveats in the documentation: https://pandas.pydata.org/pandas-docs/stable/user_guide/indexing.html#returning-a-view-versus-a-copy\n",
            "  df[col] = df[col].fillna(0).astype(int)\n",
            "/tmp/ipython-input-12-3826404965.py:16: SettingWithCopyWarning: \n",
            "A value is trying to be set on a copy of a slice from a DataFrame.\n",
            "Try using .loc[row_indexer,col_indexer] = value instead\n",
            "\n",
            "See the caveats in the documentation: https://pandas.pydata.org/pandas-docs/stable/user_guide/indexing.html#returning-a-view-versus-a-copy\n",
            "  df[col] = df[col].fillna(0).astype(int)\n",
            "/tmp/ipython-input-12-3826404965.py:17: SettingWithCopyWarning: \n",
            "A value is trying to be set on a copy of a slice from a DataFrame.\n",
            "Try using .loc[row_indexer,col_indexer] = value instead\n",
            "\n",
            "See the caveats in the documentation: https://pandas.pydata.org/pandas-docs/stable/user_guide/indexing.html#returning-a-view-versus-a-copy\n",
            "  df['Number.of.Engines'] = df['Number.of.Engines'].fillna(df['Number.of.Engines'].median())\n",
            "/tmp/ipython-input-12-3826404965.py:25: SettingWithCopyWarning: \n",
            "A value is trying to be set on a copy of a slice from a DataFrame.\n",
            "Try using .loc[row_indexer,col_indexer] = value instead\n",
            "\n",
            "See the caveats in the documentation: https://pandas.pydata.org/pandas-docs/stable/user_guide/indexing.html#returning-a-view-versus-a-copy\n",
            "  df[col] = df[col].fillna(df[col].mode()[0])\n"
          ]
        },
        {
          "output_type": "stream",
          "name": "stdout",
          "text": [
            "Duplicates: 0\n",
            "Final Shape: (88406, 32)\n",
            "Missing Values After Cleaning:\n",
            "Event.Id                  0\n",
            "Investigation.Type        0\n",
            "Accident.Number           0\n",
            "Event.Date                0\n",
            "Location                  0\n",
            "Country                   0\n",
            "Latitude                  0\n",
            "Longitude                 0\n",
            "Airport.Code              0\n",
            "Airport.Name              0\n",
            "Injury.Severity           0\n",
            "Aircraft.damage           0\n",
            "Aircraft.Category         0\n",
            "Registration.Number       0\n",
            "Make                      0\n",
            "Model                     0\n",
            "Amateur.Built             0\n",
            "Number.of.Engines         0\n",
            "Engine.Type               0\n",
            "FAR.Description           0\n",
            "Schedule                  0\n",
            "Purpose.of.flight         0\n",
            "Air.carrier               0\n",
            "Total.Fatal.Injuries      0\n",
            "Total.Serious.Injuries    0\n",
            "Total.Minor.Injuries      0\n",
            "Total.Uninjured           0\n",
            "Weather.Condition         0\n",
            "Broad.phase.of.flight     0\n",
            "Report.Status             0\n",
            "Publication.Date          0\n",
            "Event.Year                0\n",
            "dtype: int64\n",
            "\n",
            "'Unknown' Values After Cleaning:\n",
            "Weather.Condition: 823\n",
            "Broad.phase.of.flight: 537\n",
            "Aircraft.Category: 16\n"
          ]
        }
      ]
    },
    {
      "cell_type": "markdown",
      "source": [
        "##Data Preparation\n",
        "###Cleaning and Imputation\n",
        "We will ensure data quality by cleaning the dataset, addressing missing values, correcting data types, and creating new features:\n",
        "\n",
        "####Dropping Rows: Remove rows missing critical fields, such as Location, Country, Make, Model, and Amateur.Built, to maintain data integrity.\n",
        "Numerical Imputation:\n",
        "For Latitude and Longitude, convert to numeric and fill in with medians.\n",
        "For injury columns (Total.Fatal.Injuries, etc.), fill with 0, assuming no injuries if data is missing.\n",
        "For Number.of.Engines, fill with the median.\n"
      ],
      "metadata": {
        "id": "2m_7a1piRCzV"
      }
    },
    {
      "cell_type": "markdown",
      "source": [
        "##Categorical Imputation:\n",
        "We will fill all categorical columns (Airport.Code, Airport.Name, Aircraft.Category, FAR.Description, Schedule, Broad.phase.of.flight, Registration.Number, Air.carrier, Injury.Severity, Aircraft.damage, Engine.Type, Purpose.of.flight, Weather.Condition, Report.Status, Publication.Date) with their respective mode values to maintain consistency and lessen the occurrence of 'unknown' values.\n",
        "\n",
        "Type Conversion: Convert Event.Date to datetime and ensure that injury columns are integers.\n",
        "Feature Engineering: Extract Event.Year from Event.Date for temporal analysis.\n",
        "Duplicate Check: Confirm there are no duplicate rows."
      ],
      "metadata": {
        "id": "P5DaNEsGRKQu"
      }
    },
    {
      "cell_type": "code",
      "source": [
        "# Drop rows with missing critical fields\n",
        "df = df.dropna(subset=['Location', 'Country', 'Make', 'Model', 'Amateur.Built'])\n",
        "\n",
        "# Impute numerical columns\n",
        "df['Latitude'] = pd.to_numeric(df['Latitude'], errors='coerce').fillna(df['Latitude'].median())\n",
        "df['Longitude'] = pd.to_numeric(df['Longitude'], errors='coerce').fillna(df['Longitude'].median())\n",
        "for col in ['Total.Fatal.Injuries', 'Total.Serious.Injuries', 'Total.Minor.Injuries', 'Total.Uninjured']:\n",
        "    df[col] = df[col].fillna(0).astype(int)\n",
        "df['Number.of.Engines'] = df['Number.of.Engines'].fillna(df['Number.of.Engines'].median())\n",
        "\n",
        "# Impute all categorical columns with their respective mode\n",
        "categorical_columns = ['Airport.Code', 'Airport.Name', 'Aircraft.Category', 'FAR.Description',\n",
        "                      'Schedule', 'Broad.phase.of.flight', 'Registration.Number', 'Air.carrier',\n",
        "                      'Injury.Severity', 'Aircraft.damage', 'Engine.Type', 'Purpose.of.flight',\n",
        "                      'Weather.Condition', 'Report.Status', 'Publication.Date']\n",
        "for col in categorical_columns:\n",
        "    df[col] = df[col].fillna(df[col].mode()[0])\n",
        "\n",
        "# Convert data types\n",
        "df['Event.Date'] = pd.to_datetime(df['Event.Date'])\n",
        "df['Event.Year'] = df['Event.Date'].dt.year\n",
        "\n",
        "# Check for duplicates\n",
        "print(f\"Duplicates: {df.duplicated().sum()}\")\n",
        "\n",
        "# Verify no missing values\n",
        "print(f\"Final Shape: {df.shape}\")\n",
        "print(\"Missing Values After Cleaning:\")\n",
        "print(df.isna().sum())\n",
        "\n",
        "# Re-check 'unknown' values\n",
        "print(\"\\n'Unknown' Values After Cleaning:\")\n",
        "for col in ['Weather.Condition', 'Broad.phase.of.flight', 'Aircraft.Category']:\n",
        "    print(f\"{col}: {(df[col].str.lower() == 'unknown').sum() + (df[col] == 'UNK').sum()}\")"
      ],
      "metadata": {
        "colab": {
          "base_uri": "https://localhost:8080/"
        },
        "id": "JJKuStiZRmi6",
        "outputId": "416645b4-1f6b-448c-fdd2-a4a50d4676b9"
      },
      "execution_count": 13,
      "outputs": [
        {
          "output_type": "stream",
          "name": "stdout",
          "text": [
            "Duplicates: 0\n",
            "Final Shape: (88406, 32)\n",
            "Missing Values After Cleaning:\n",
            "Event.Id                  0\n",
            "Investigation.Type        0\n",
            "Accident.Number           0\n",
            "Event.Date                0\n",
            "Location                  0\n",
            "Country                   0\n",
            "Latitude                  0\n",
            "Longitude                 0\n",
            "Airport.Code              0\n",
            "Airport.Name              0\n",
            "Injury.Severity           0\n",
            "Aircraft.damage           0\n",
            "Aircraft.Category         0\n",
            "Registration.Number       0\n",
            "Make                      0\n",
            "Model                     0\n",
            "Amateur.Built             0\n",
            "Number.of.Engines         0\n",
            "Engine.Type               0\n",
            "FAR.Description           0\n",
            "Schedule                  0\n",
            "Purpose.of.flight         0\n",
            "Air.carrier               0\n",
            "Total.Fatal.Injuries      0\n",
            "Total.Serious.Injuries    0\n",
            "Total.Minor.Injuries      0\n",
            "Total.Uninjured           0\n",
            "Weather.Condition         0\n",
            "Broad.phase.of.flight     0\n",
            "Report.Status             0\n",
            "Publication.Date          0\n",
            "Event.Year                0\n",
            "dtype: int64\n",
            "\n",
            "'Unknown' Values After Cleaning:\n",
            "Weather.Condition: 823\n",
            "Broad.phase.of.flight: 537\n",
            "Aircraft.Category: 16\n"
          ]
        }
      ]
    },
    {
      "cell_type": "markdown",
      "source": [
        "##Data Quality Notes\n",
        "\n",
        "'Unknown' Values: While imputing with mode reduces reliance on 'unknown' values, it does not completely eliminate them (e.g., Aircraft.Category still has ~39,500 'unknown' values from the original dataset). This may introduce bias by over-representing the mode (e.g., 'Airplane' for Aircraft.Category). However, this approach ensures consistency and minimizes missing data for analysis. Although these values limit secondary analyses, they do not affect the core aircraft risk assessment.\n",
        "Assumptions: Imputing injury counts with 0 assumes no injuries if data is missing, which is noted for clarity. Median imputation for Latitude and Longitude preserves geographical trends.\n",
        "\n",
        "###Data Analysis\n",
        "Exploratory Data Analysis\n",
        "We explore the dataset to understand distributions and patterns:\n",
        "\n",
        "Categorical Variables: We examine Aircraft.Category, Make, Weather.Condition, and Broad.phase.of.flight using value_counts().\n",
        "Numerical Variables: We summarize injury counts and Number.of.Engines with describe().\n",
        "Temporal Trends: We analyze incident frequency by Event.Year.\n"
      ],
      "metadata": {
        "id": "4Q-Pa5-KSurB"
      }
    },
    {
      "cell_type": "code",
      "source": [
        "# Categorical distributions\n",
        "print(\"Aircraft Category Distribution:\")\n",
        "print(df['Aircraft.Category'].value_counts(normalize=True))\n",
        "print(\"\\nTop 5 Makes:\")\n",
        "print(df['Make'].value_counts().head())\n",
        "\n",
        "# Numerical summary\n",
        "print(\"\\nInjury Statistics:\")\n",
        "print(df[['Total.Fatal.Injuries', 'Total.Serious.Injuries', 'Total.Minor.Injuries', 'Total.Uninjured']].describe())"
      ],
      "metadata": {
        "colab": {
          "base_uri": "https://localhost:8080/"
        },
        "id": "3uFO-7ebSe0q",
        "outputId": "e64183c3-aa85-4872-b7d3-2bb0746ddee6"
      },
      "execution_count": 14,
      "outputs": [
        {
          "output_type": "stream",
          "name": "stdout",
          "text": [
            "Aircraft Category Distribution:\n",
            "Aircraft.Category\n",
            "Airplane             0.947334\n",
            "Helicopter           0.038753\n",
            "Glider               0.005746\n",
            "Balloon              0.002613\n",
            "Gyrocraft            0.001957\n",
            "Weight-Shift         0.001821\n",
            "Powered Parachute    0.001029\n",
            "Ultralight           0.000339\n",
            "Unknown              0.000158\n",
            "WSFT                 0.000102\n",
            "Powered-Lift         0.000057\n",
            "Blimp                0.000045\n",
            "UNK                  0.000023\n",
            "Rocket               0.000011\n",
            "ULTR                 0.000011\n",
            "Name: proportion, dtype: float64\n",
            "\n",
            "Top 5 Makes:\n",
            "Make\n",
            "Cessna    22159\n",
            "Piper     11990\n",
            "CESSNA     4919\n",
            "Beech      4313\n",
            "PIPER      2840\n",
            "Name: count, dtype: int64\n",
            "\n",
            "Injury Statistics:\n",
            "       Total.Fatal.Injuries  Total.Serious.Injuries  Total.Minor.Injuries  \\\n",
            "count          88406.000000            88406.000000          88406.000000   \n",
            "mean               0.558152                0.239712              0.308791   \n",
            "std                5.090423                1.429433              2.087133   \n",
            "min                0.000000                0.000000              0.000000   \n",
            "25%                0.000000                0.000000              0.000000   \n",
            "50%                0.000000                0.000000              0.000000   \n",
            "75%                0.000000                0.000000              0.000000   \n",
            "max              349.000000              161.000000            380.000000   \n",
            "\n",
            "       Total.Uninjured  \n",
            "count     88406.000000  \n",
            "mean          4.946237  \n",
            "std          26.924914  \n",
            "min           0.000000  \n",
            "25%           0.000000  \n",
            "50%           1.000000  \n",
            "75%           2.000000  \n",
            "max         699.000000  \n"
          ]
        }
      ]
    },
    {
      "cell_type": "markdown",
      "source": [
        "##Risk Analysis\n",
        "###We assess risk by analyzing:\n",
        "\n",
        "Accident Rates by Aircraft Category: Count incidents per Aircraft.Category and note mode imputation effects.\n",
        "Injury Severity by Make: Calculate mean Total.Fatal.Injuries for top manufacturers.\n",
        "Temporal Trends: Plot incident counts over time to identify safety improvements."
      ],
      "metadata": {
        "id": "h6Sf7-AvTqPm"
      }
    },
    {
      "cell_type": "code",
      "source": [
        "# Accident rates by Aircraft Category\n",
        "category_counts = df['Aircraft.Category'].value_counts()\n",
        "plt.figure(figsize=(10, 6))\n",
        "plt.bar(category_counts.index, category_counts.values, color='teal')\n",
        "plt.title('Accident Counts by Aircraft Category')\n",
        "plt.xlabel('Aircraft Category')\n",
        "plt.ylabel('Number of Incidents')\n",
        "plt.xticks(rotation=45)\n",
        "plt.tight_layout()\n",
        "plt.savefig('accident_counts_category.png')\n",
        "plt.show()\n",
        "\n",
        "# Mean fatal injuries by Make (top 10)\n",
        "top_makes = df['Make'].value_counts().index[:10]\n",
        "fatal_injuries = df[df['Make'].isin(top_makes)].groupby('Make')['Total.Fatal.Injuries'].mean()\n",
        "plt.figure(figsize=(10, 6))\n",
        "plt.bar(fatal_injuries.index, fatal_injuries.values, color='purple')\n",
        "plt.title('Mean Fatal Injuries per Incident by Aircraft Make')\n",
        "plt.xlabel('Aircraft Make')\n",
        "plt.ylabel('Mean Fatal Injuries')\n",
        "plt.xticks(rotation=45)\n",
        "plt.tight_layout()\n",
        "plt.savefig('fatal_injuries_make.png')\n",
        "plt.show()\n",
        "\n",
        "# Accident rates over time\n",
        "yearly_counts = df.groupby('Event.Year').size()\n",
        "plt.figure(figsize=(10, 6))\n",
        "plt.plot(yearly_counts.index, yearly_counts.values, color='blue', marker='o')\n",
        "plt.title('Accident Rates Over Time (1962–2023)')\n",
        "plt.xlabel('Year')\n",
        "plt.ylabel('Number of Incidents')\n",
        "plt.grid(True)\n",
        "plt.tight_layout()\n",
        "plt.savefig('accident_rates_time.png')\n",
        "plt.show()"
      ],
      "metadata": {
        "colab": {
          "base_uri": "https://localhost:8080/",
          "height": 1000
        },
        "id": "3Esk7pBqTXxg",
        "outputId": "135c43a1-6c4d-4108-ae25-d6ba90183737"
      },
      "execution_count": 15,
      "outputs": [
        {
          "output_type": "display_data",
          "data": {
            "text/plain": [
              "<Figure size 1000x600 with 1 Axes>"
            ],
            "image/png": "[encoded data removed]"
          },
          "metadata": {}
        },
        {
          "output_type": "display_data",
          "data": {
            "text/plain": [
              "<Figure size 1000x600 with 1 Axes>"
            ],
            "image/png": "[encoded data removed]"
          },
          "metadata": {}
        },
        {
          "output_type": "display_data",
          "data": {
            "text/plain": [
              "<Figure size 1000x600 with 1 Axes>"
            ],
            "image/png": "[encoded data removed]"
          },
          "metadata": {}
        }
      ]
    },
    {
      "cell_type": "markdown",
      "source": [
        "##Key Findings\n",
        "\n",
        "Dataset Overview: The cleaned dataset has 88,406 rows, with 95.7% accidents mostly occurring in the U.S. (92.9%).\n",
        "###Aircraft Characteristics:\n",
        "Fixed-wing airplanes account for most incidents (~80%). Mode imputation may over-represent 'Airplane' in Aircraft.Category.\n",
        "Boeing and Airbus have lower mean fatal injuries compared to smaller brands like Cessna or Piper."
      ],
      "metadata": {
        "id": "Sn1inJ_HUP3_"
      }
    },
    {
      "cell_type": "markdown",
      "source": [
        "##Injury Statistics:\n",
        "80% of incidents report no fatalities, and 85% report no serious injuries.\n",
        "Commercial manufacturers (Boeing, Airbus) show lower injury severities.\n"
      ],
      "metadata": {
        "id": "8SIQuA0vUa30"
      }
    },
    {
      "cell_type": "markdown",
      "source": [
        "Temporal Trends: Accident rates have significantly decreased since the 1990s, indicating that modern aircraft are safer.\n",
        "'Unknown' Values Impact: While mode imputation reduces 'unknown' values, it may skew the Aircraft.Category towards 'Airplane' (~39,500 original 'unknown' values remain). This affects secondary analyses but does not change key findings regarding manufacturers.\n"
      ],
      "metadata": {
        "id": "1zhxWn8iU9HD"
      }
    },
    {
      "cell_type": "markdown",
      "source": [
        "##Results and Recommendations\n",
        "###Business Recommendations\n",
        "Based on the analysis, we suggest:"
      ],
      "metadata": {
        "id": "CHPvRnjFVHA2"
      }
    },
    {
      "cell_type": "markdown",
      "source": [
        "Prioritize Fixed-Wing Airplanes:\n",
        "Airplanes have the highest number of incidents due to mode imputation, yet they remain safer than helicopters or gliders in comparison.\n",
        "Evidence: The bar chart illustrates 'Airplane' dominance, although it is influenced by imputation.\n"
      ],
      "metadata": {
        "id": "ghk9dMmoVTjY"
      }
    },
    {
      "cell_type": "markdown",
      "source": [
        "Select Boeing or Airbus:\n",
        "These brands have the lowest mean fatal injuries per incident, which is crucial for passenger safety.\n",
        "Evidence: The bar graph showcases Boeing and Airbus with close to zero fatal injuries.\n"
      ],
      "metadata": {
        "id": "TaaSJLkPVazM"
      }
    },
    {
      "cell_type": "markdown",
      "source": [
        "Focus on Modern Aircraft (Post-1990s):\n",
        "Newer aircraft benefit from improved safety technologies, leading to lower accident rates.\n",
        "Evidence: The line graph displays a clear decline in incidents over the years.\n"
      ],
      "metadata": {
        "id": "6_LkPpuMVhn7"
      }
    },
    {
      "cell_type": "markdown",
      "source": [
        "##Visualizations\n",
        "\n",
        "Bar Chart: Accident counts by Aircraft.Category highlight the dominance of airplanes while noting the bias from imputation.\n",
        "\n",
        "Bar Plot: Mean fatal injuries by top manufacturers emphasize Boeing and Airbus.\n",
        "\n",
        "Line Graph: Accident rates over time reflect enhanced safety in recent decades.\n"
      ],
      "metadata": {
        "id": "A2L3rRt4VpT-"
      }
    },
    {
      "cell_type": "markdown",
      "source": [
        "##Conclusion\n",
        "This notebook reviewed NTSB aviation accident data to identify low-risk aircraft for the company's aviation division. After thorough data cleaning, we filled all categorical columns with their mode values. This reduced 'unknown' values (e.g., Aircraft.Category retains ~39,500 'unknown' from the original data) while acknowledging possible bias (e.g., over-representing 'Airplane').\n",
        "\n",
        "\n",
        "###The analysis provides three actionable recommendations:\n"
      ],
      "metadata": {
        "id": "OyaD2k-tVzup"
      }
    },
    {
      "cell_type": "markdown",
      "source": [
        "Choose fixed-wing airplanes, despite imputation bias, due to lower relative risk.\n",
        "\n",
        "Select Boeing or Airbus for the lowest injury risks.\n",
        "\n",
        "Prioritize modern aircraft for improved safety."
      ],
      "metadata": {
        "id": "FkwjV_5RWGJ_"
      }
    },
    {
      "cell_type": "code",
      "source": [],
      "metadata": {
        "id": "E-aAVYiqUCq1"
      },
      "execution_count": 15,
      "outputs": []
    }
  ]
}